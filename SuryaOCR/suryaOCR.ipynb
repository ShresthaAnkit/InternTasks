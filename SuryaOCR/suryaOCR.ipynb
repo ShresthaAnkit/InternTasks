{
 "cells": [
  {
   "cell_type": "code",
   "execution_count": 10,
   "metadata": {},
   "outputs": [
    {
     "name": "stdout",
     "output_type": "stream",
     "text": [
      "Requirement already satisfied: surya-ocr in c:\\users\\ankit\\appdata\\local\\programs\\python\\python311\\lib\\site-packages (0.7.0)\n",
      "Requirement already satisfied: filetype<2.0.0,>=1.2.0 in c:\\users\\ankit\\appdata\\local\\programs\\python\\python311\\lib\\site-packages (from surya-ocr) (1.2.0)\n",
      "Requirement already satisfied: ftfy<7.0.0,>=6.1.3 in c:\\users\\ankit\\appdata\\local\\programs\\python\\python311\\lib\\site-packages (from surya-ocr) (6.3.1)\n",
      "Requirement already satisfied: opencv-python<5.0.0.0,>=4.9.0.80 in c:\\users\\ankit\\appdata\\local\\programs\\python\\python311\\lib\\site-packages (from surya-ocr) (4.10.0.82)\n",
      "Requirement already satisfied: pdftext<0.4.0,>=0.3.18 in c:\\users\\ankit\\appdata\\local\\programs\\python\\python311\\lib\\site-packages (from surya-ocr) (0.3.20)\n",
      "Requirement already satisfied: pillow<11.0.0,>=10.2.0 in c:\\users\\ankit\\appdata\\local\\programs\\python\\python311\\lib\\site-packages (from surya-ocr) (10.4.0)\n",
      "Requirement already satisfied: pydantic<3.0.0,>=2.5.3 in c:\\users\\ankit\\appdata\\local\\programs\\python\\python311\\lib\\site-packages (from surya-ocr) (2.10.3)\n",
      "Requirement already satisfied: pydantic-settings<3.0.0,>=2.1.0 in c:\\users\\ankit\\appdata\\local\\programs\\python\\python311\\lib\\site-packages (from surya-ocr) (2.6.1)\n",
      "Requirement already satisfied: pypdfium2<5.0.0,>=4.25.0 in c:\\users\\ankit\\appdata\\local\\programs\\python\\python311\\lib\\site-packages (from surya-ocr) (4.30.0)\n",
      "Requirement already satisfied: python-dotenv<2.0.0,>=1.0.0 in c:\\users\\ankit\\appdata\\local\\programs\\python\\python311\\lib\\site-packages (from surya-ocr) (1.0.1)\n",
      "Requirement already satisfied: tabulate<0.10.0,>=0.9.0 in c:\\users\\ankit\\appdata\\local\\programs\\python\\python311\\lib\\site-packages (from surya-ocr) (0.9.0)\n",
      "Requirement already satisfied: torch<3.0.0,>=2.4.1 in c:\\users\\ankit\\appdata\\local\\programs\\python\\python311\\lib\\site-packages (from surya-ocr) (2.5.1)\n",
      "Requirement already satisfied: transformers<5.0.0,>=4.41.0 in c:\\users\\ankit\\appdata\\local\\programs\\python\\python311\\lib\\site-packages (from surya-ocr) (4.44.2)\n",
      "Requirement already satisfied: wcwidth in c:\\users\\ankit\\appdata\\roaming\\python\\python311\\site-packages (from ftfy<7.0.0,>=6.1.3->surya-ocr) (0.2.13)\n",
      "Requirement already satisfied: numpy>=1.21.2 in c:\\users\\ankit\\appdata\\local\\programs\\python\\python311\\lib\\site-packages (from opencv-python<5.0.0.0,>=4.9.0.80->surya-ocr) (1.24.3)\n",
      "Requirement already satisfied: onnxruntime<2.0.0,>=1.19.2 in c:\\users\\ankit\\appdata\\local\\programs\\python\\python311\\lib\\site-packages (from pdftext<0.4.0,>=0.3.18->surya-ocr) (1.20.1)\n",
      "Requirement already satisfied: annotated-types>=0.6.0 in c:\\users\\ankit\\appdata\\local\\programs\\python\\python311\\lib\\site-packages (from pydantic<3.0.0,>=2.5.3->surya-ocr) (0.7.0)\n",
      "Requirement already satisfied: pydantic-core==2.27.1 in c:\\users\\ankit\\appdata\\local\\programs\\python\\python311\\lib\\site-packages (from pydantic<3.0.0,>=2.5.3->surya-ocr) (2.27.1)\n",
      "Requirement already satisfied: typing-extensions>=4.12.2 in c:\\users\\ankit\\appdata\\local\\programs\\python\\python311\\lib\\site-packages (from pydantic<3.0.0,>=2.5.3->surya-ocr) (4.12.2)\n",
      "Requirement already satisfied: filelock in c:\\users\\ankit\\appdata\\local\\programs\\python\\python311\\lib\\site-packages (from torch<3.0.0,>=2.4.1->surya-ocr) (3.12.4)\n",
      "Requirement already satisfied: networkx in c:\\users\\ankit\\appdata\\local\\programs\\python\\python311\\lib\\site-packages (from torch<3.0.0,>=2.4.1->surya-ocr) (3.4.2)\n",
      "Requirement already satisfied: jinja2 in c:\\users\\ankit\\appdata\\local\\programs\\python\\python311\\lib\\site-packages (from torch<3.0.0,>=2.4.1->surya-ocr) (3.1.3)\n",
      "Requirement already satisfied: fsspec in c:\\users\\ankit\\appdata\\local\\programs\\python\\python311\\lib\\site-packages (from torch<3.0.0,>=2.4.1->surya-ocr) (2024.9.0)\n",
      "Requirement already satisfied: sympy==1.13.1 in c:\\users\\ankit\\appdata\\local\\programs\\python\\python311\\lib\\site-packages (from torch<3.0.0,>=2.4.1->surya-ocr) (1.13.1)\n",
      "Requirement already satisfied: mpmath<1.4,>=1.1.0 in c:\\users\\ankit\\appdata\\local\\programs\\python\\python311\\lib\\site-packages (from sympy==1.13.1->torch<3.0.0,>=2.4.1->surya-ocr) (1.3.0)\n",
      "Requirement already satisfied: huggingface-hub<1.0,>=0.23.2 in c:\\users\\ankit\\appdata\\local\\programs\\python\\python311\\lib\\site-packages (from transformers<5.0.0,>=4.41.0->surya-ocr) (0.25.0)\n",
      "Requirement already satisfied: packaging>=20.0 in c:\\users\\ankit\\appdata\\roaming\\python\\python311\\site-packages (from transformers<5.0.0,>=4.41.0->surya-ocr) (23.2)\n",
      "Requirement already satisfied: pyyaml>=5.1 in c:\\users\\ankit\\appdata\\local\\programs\\python\\python311\\lib\\site-packages (from transformers<5.0.0,>=4.41.0->surya-ocr) (6.0.1)\n",
      "Requirement already satisfied: regex!=2019.12.17 in c:\\users\\ankit\\appdata\\local\\programs\\python\\python311\\lib\\site-packages (from transformers<5.0.0,>=4.41.0->surya-ocr) (2024.9.11)\n",
      "Requirement already satisfied: requests in c:\\users\\ankit\\appdata\\local\\programs\\python\\python311\\lib\\site-packages (from transformers<5.0.0,>=4.41.0->surya-ocr) (2.31.0)\n",
      "Requirement already satisfied: safetensors>=0.4.1 in c:\\users\\ankit\\appdata\\local\\programs\\python\\python311\\lib\\site-packages (from transformers<5.0.0,>=4.41.0->surya-ocr) (0.4.5)\n",
      "Requirement already satisfied: tokenizers<0.20,>=0.19 in c:\\users\\ankit\\appdata\\local\\programs\\python\\python311\\lib\\site-packages (from transformers<5.0.0,>=4.41.0->surya-ocr) (0.19.1)\n",
      "Requirement already satisfied: tqdm>=4.27 in c:\\users\\ankit\\appdata\\local\\programs\\python\\python311\\lib\\site-packages (from transformers<5.0.0,>=4.41.0->surya-ocr) (4.66.5)\n",
      "Requirement already satisfied: coloredlogs in c:\\users\\ankit\\appdata\\local\\programs\\python\\python311\\lib\\site-packages (from onnxruntime<2.0.0,>=1.19.2->pdftext<0.4.0,>=0.3.18->surya-ocr) (15.0.1)\n",
      "Requirement already satisfied: flatbuffers in c:\\users\\ankit\\appdata\\local\\programs\\python\\python311\\lib\\site-packages (from onnxruntime<2.0.0,>=1.19.2->pdftext<0.4.0,>=0.3.18->surya-ocr) (23.5.26)\n",
      "Requirement already satisfied: protobuf in c:\\users\\ankit\\appdata\\local\\programs\\python\\python311\\lib\\site-packages (from onnxruntime<2.0.0,>=1.19.2->pdftext<0.4.0,>=0.3.18->surya-ocr) (4.25.3)\n",
      "Requirement already satisfied: colorama in c:\\users\\ankit\\appdata\\local\\programs\\python\\python311\\lib\\site-packages (from tqdm>=4.27->transformers<5.0.0,>=4.41.0->surya-ocr) (0.4.6)\n",
      "Requirement already satisfied: MarkupSafe>=2.0 in c:\\users\\ankit\\appdata\\local\\programs\\python\\python311\\lib\\site-packages (from jinja2->torch<3.0.0,>=2.4.1->surya-ocr) (2.1.5)\n",
      "Requirement already satisfied: charset-normalizer<4,>=2 in c:\\users\\ankit\\appdata\\local\\programs\\python\\python311\\lib\\site-packages (from requests->transformers<5.0.0,>=4.41.0->surya-ocr) (3.1.0)\n",
      "Requirement already satisfied: idna<4,>=2.5 in c:\\users\\ankit\\appdata\\local\\programs\\python\\python311\\lib\\site-packages (from requests->transformers<5.0.0,>=4.41.0->surya-ocr) (2.10)\n",
      "Requirement already satisfied: urllib3<3,>=1.21.1 in c:\\users\\ankit\\appdata\\local\\programs\\python\\python311\\lib\\site-packages (from requests->transformers<5.0.0,>=4.41.0->surya-ocr) (1.26.6)\n",
      "Requirement already satisfied: certifi>=2017.4.17 in c:\\users\\ankit\\appdata\\local\\programs\\python\\python311\\lib\\site-packages (from requests->transformers<5.0.0,>=4.41.0->surya-ocr) (2021.5.30)\n",
      "Requirement already satisfied: humanfriendly>=9.1 in c:\\users\\ankit\\appdata\\local\\programs\\python\\python311\\lib\\site-packages (from coloredlogs->onnxruntime<2.0.0,>=1.19.2->pdftext<0.4.0,>=0.3.18->surya-ocr) (10.0)\n",
      "Requirement already satisfied: pyreadline3 in c:\\users\\ankit\\appdata\\local\\programs\\python\\python311\\lib\\site-packages (from humanfriendly>=9.1->coloredlogs->onnxruntime<2.0.0,>=1.19.2->pdftext<0.4.0,>=0.3.18->surya-ocr) (3.5.4)\n"
     ]
    }
   ],
   "source": [
    "!pip install surya-ocr"
   ]
  },
  {
   "cell_type": "code",
   "execution_count": 1,
   "metadata": {},
   "outputs": [
    {
     "name": "stderr",
     "output_type": "stream",
     "text": [
      "c:\\Users\\Ankit\\AppData\\Local\\Programs\\Python\\Python311\\Lib\\site-packages\\tqdm\\auto.py:21: TqdmWarning: IProgress not found. Please update jupyter and ipywidgets. See https://ipywidgets.readthedocs.io/en/stable/user_install.html\n",
      "  from .autonotebook import tqdm as notebook_tqdm\n"
     ]
    },
    {
     "name": "stdout",
     "output_type": "stream",
     "text": [
      "WARNING:tensorflow:From c:\\Users\\Ankit\\AppData\\Local\\Programs\\Python\\Python311\\Lib\\site-packages\\keras\\src\\losses.py:2976: The name tf.losses.sparse_softmax_cross_entropy is deprecated. Please use tf.compat.v1.losses.sparse_softmax_cross_entropy instead.\n",
      "\n"
     ]
    }
   ],
   "source": [
    "from PIL import Image\n",
    "from surya.ocr import run_ocr\n",
    "from surya.model.detection.model import load_model as load_det_model, load_processor as load_det_processor\n",
    "from surya.model.recognition.model import load_model as load_rec_model\n",
    "from surya.model.recognition.processor import load_processor as load_rec_processor\n"
   ]
  },
  {
   "cell_type": "markdown",
   "metadata": {},
   "source": [
    "## Extract a few pages from the pdf"
   ]
  },
  {
   "cell_type": "code",
   "execution_count": 33,
   "metadata": {},
   "outputs": [
    {
     "name": "stdout",
     "output_type": "stream",
     "text": [
      "New PDF created: sample5.pdf\n"
     ]
    }
   ],
   "source": [
    "from PyPDF2 import PdfReader, PdfWriter\n",
    "\n",
    "def extract_pages(input_pdf, output_pdf, pages_to_extract):\n",
    "    # Create a PDF reader and writer\n",
    "    reader = PdfReader(input_pdf)\n",
    "    writer = PdfWriter()\n",
    "    \n",
    "    # Extract the specified pages\n",
    "    for page_num in pages_to_extract:\n",
    "        writer.add_page(reader.pages[page_num])\n",
    "\n",
    "    # Write the extracted pages to a new PDF\n",
    "    with open(output_pdf, 'wb') as output_file:\n",
    "        writer.write(output_file)\n",
    "\n",
    "    print(f\"New PDF created: {output_pdf}\")\n",
    "\n",
    "\n",
    "input_pdf = r'D:\\Programming\\AI\\Basics\\intern-assignments\\SuryaOCR\\Unified-Directives-2080-Circular-Final-Published.pdf' \n",
    "output_pdf = 'sample5.pdf'       \n",
    "pages_to_extract = [0,1,2,3,4,5,6]  \n",
    "\n",
    "extract_pages(input_pdf, output_pdf, pages_to_extract)\n"
   ]
  },
  {
   "cell_type": "markdown",
   "metadata": {},
   "source": [
    "### Convert the few extracted pages into images"
   ]
  },
  {
   "cell_type": "code",
   "execution_count": 34,
   "metadata": {},
   "outputs": [],
   "source": [
    "from pdf2image import convert_from_path\n",
    "\n",
    "pdf_path = r'D:\\Programming\\AI\\Basics\\intern-assignments\\SuryaOCR\\sample6.pdf'\n",
    "\n",
    "images = convert_from_path(pdf_path)\n",
    "image_paths = []\n",
    "for i, image in enumerate(images):\n",
    "    # Save each page as an image file\n",
    "    image_path = f\"page_{i + 11}.png\"\n",
    "    image.save(image_path, 'PNG')\n",
    "    image_paths.append(image_path)"
   ]
  },
  {
   "cell_type": "markdown",
   "metadata": {},
   "source": [
    "## Testing Surya OCR"
   ]
  },
  {
   "cell_type": "code",
   "execution_count": 2,
   "metadata": {},
   "outputs": [
    {
     "name": "stdout",
     "output_type": "stream",
     "text": [
      "Loaded detection model vikp/surya_det3 on device cpu with dtype torch.float32\n",
      "Loaded recognition model vikp/surya_rec2 on device cpu with dtype torch.float32\n"
     ]
    },
    {
     "name": "stderr",
     "output_type": "stream",
     "text": [
      "Detecting bboxes: 100%|██████████| 1/1 [00:08<00:00,  8.95s/it]\n",
      "Recognizing Text: 100%|██████████| 1/1 [00:17<00:00, 17.01s/it]\n"
     ]
    }
   ],
   "source": [
    "image = Image.open('page_2.png')\n",
    "langs = [\"en\",'ne'] # Replace with your languages - optional but recommended\n",
    "det_processor, det_model = load_det_processor(), load_det_model()\n",
    "rec_model, rec_processor = load_rec_model(), load_rec_processor()\n",
    "\n",
    "predictions2 = run_ocr([image], [langs], det_model, det_processor, rec_model, rec_processor)"
   ]
  },
  {
   "cell_type": "code",
   "execution_count": 22,
   "metadata": {},
   "outputs": [],
   "source": [
    "output_path = \"temp.txt\"\n",
    "with open(output_path, \"w\", encoding=\"utf-8\") as f:    \n",
    "    out_text = format_text(predictions)    \n",
    "    f.write(out_text)"
   ]
  },
  {
   "cell_type": "code",
   "execution_count": 10,
   "metadata": {},
   "outputs": [],
   "source": [
    "class MyBBox():\n",
    "    def __init__(self,x_min,y_min,x_max,y_max):\n",
    "        self.x_min = x_min  \n",
    "        self.y_min = y_min\n",
    "        self.x_max = x_max\n",
    "        self.y_max = y_max\n",
    "        \n",
    "    def __str__(self):\n",
    "        return f'[{self.x_min},{self.y_min},{self.x_max},{self.y_max}]'\n",
    "    # Make the class subscriptable\n",
    "    def __getitem__(self, index):\n",
    "        # Define a list of attributes to return for indexing\n",
    "        bbox_values = [self.x_min, self.y_min, self.x_max, self.y_max]\n",
    "        return bbox_values[index]\n",
    "\n",
    "    def __setitem__(self, index, value):\n",
    "        # Update the corresponding attribute based on the index\n",
    "        if index == 0:\n",
    "            self.x_min = value\n",
    "        elif index == 1:\n",
    "            self.y_min = value\n",
    "        elif index == 2:\n",
    "            self.x_max = value\n",
    "        elif index == 3:\n",
    "            self.y_max = value\n",
    "        else:\n",
    "            raise IndexError(\"Index out of range for MyBBox\")\n",
    "\n",
    "class MyTextLine():\n",
    "    def __init__(self,bbox: MyBBox,text: str):        \n",
    "        self.bbox = bbox\n",
    "        self.text = text\n",
    "    def __repr__(self):\n",
    "        return f'MyTextLine(bbox = {self.bbox}, text = {self.text})'"
   ]
  },
  {
   "cell_type": "code",
   "execution_count": 11,
   "metadata": {},
   "outputs": [],
   "source": [
    "def my_predictions(data):\n",
    "    my_data = []\n",
    "    for pred in data:\n",
    "        bbox = MyBBox(pred.bbox[0],pred.bbox[1],pred.bbox[2],pred.bbox[3])\n",
    "        my_data.append(MyTextLine(bbox,pred.text))\n",
    "    return my_data"
   ]
  },
  {
   "cell_type": "markdown",
   "metadata": {},
   "source": [
    "### Testing the predictions variable"
   ]
  },
  {
   "cell_type": "code",
   "execution_count": 3,
   "metadata": {},
   "outputs": [
    {
     "data": {
      "text/plain": [
       "'बालुवाटार, काठमाडाँ ।'"
      ]
     },
     "execution_count": 3,
     "metadata": {},
     "output_type": "execute_result"
    }
   ],
   "source": [
    "list(predictions[0])[0][1][1].text"
   ]
  },
  {
   "cell_type": "code",
   "execution_count": 30,
   "metadata": {},
   "outputs": [],
   "source": [
    "saved_predictions = []\n",
    "def detect_text(image_path):      \n",
    "    image = Image.open(image_path)\n",
    "    langs = [\"en\",'ne'] \n",
    "    det_processor, det_model = load_det_processor(), load_det_model()\n",
    "    rec_model, rec_processor = load_rec_model(), load_rec_processor()\n",
    "    predictions = run_ocr([image], [langs], det_model, det_processor, rec_model, rec_processor)\n",
    "    saved_predictions.append(predictions)\n",
    "    return predictions   "
   ]
  },
  {
   "cell_type": "code",
   "execution_count": 7,
   "metadata": {},
   "outputs": [
    {
     "data": {
      "text/plain": [
       "[TextLine(polygon=[[381.0, 161.0], [1284.0, 164.0], [1284.0, 226.0], [381.0, 223.0]], confidence=0.994456946849823, text='नेपाल राष्ट्र बैंकबाट “क”, “ख” र “ग” वर्गका', bbox=[381.0, 161.0, 1284.0, 226.0]),\n",
       " TextLine(polygon=[[402.0, 236.0], [1256.0, 230.0], [1257.0, 287.0], [402.0, 293.0]], confidence=0.9924792647361755, text=' इजाजतपत्रप्राप्त  संस्थाहरुलाई  जारी  गरिएको', bbox=[402.0, 236.0, 1256.0, 287.0]),\n",
       " TextLine(polygon=[[496.0, 470.0], [1163.0, 458.0], [1166.0, 544.0], [498.0, 556.0]], confidence=0.9814775586128235, text='एकीकृत  निर्देशन,  २०८०', bbox=[496.0, 470.0, 1163.0, 544.0]),\n",
       " TextLine(polygon=[[209.0, 605.0], [1454.0, 609.0], [1454.0, 657.0], [209.0, 654.0]], confidence=0.998428225517273, text='(एकीकृत निर्देशन, २०७९ र सो पश्चात २०८० असोज मसान्त सम्म जारी भएका', bbox=[209.0, 605.0, 1454.0, 657.0]),\n",
       " TextLine(polygon=[[369.0, 661.0], [1292.0, 661.0], [1292.0, 705.0], [369.0, 705.0]], confidence=0.9764374494552612, text='परिपत्र / निर्देशन  समेतलाई  समावेश  गरी  परिमार्जन  गरिएको)', bbox=[369.0, 661.0, 1292.0, 705.0]),\n",
       " TextLine(polygon=[[672.0, 1739.0], [991.0, 1732.0], [993.0, 1795.0], [675.0, 1802.0]], confidence=0.9885106086730957, text='नेपाल  राष्ट्र  बैंक', bbox=[672.0, 1739.0, 991.0, 1795.0]),\n",
       " TextLine(polygon=[[670.0, 1804.0], [999.0, 1812.0], [996.0, 1865.0], [668.0, 1857.0]], confidence=0.9804394841194153, text='केन्द्रीय  कार्यालय', bbox=[670.0, 1804.0, 999.0, 1865.0]),\n",
       " TextLine(polygon=[[452.0, 1869.0], [1216.0, 1876.0], [1215.0, 1935.0], [451.0, 1928.0]], confidence=0.9913824200630188, text='बैंक  तथा  वित्तीय  संस्था  नियमन  विभाग', bbox=[452.0, 1869.0, 1216.0, 1935.0]),\n",
       " TextLine(polygon=[[697.0, 1942.0], [945.0, 1942.0], [945.0, 1984.0], [697.0, 1984.0]], confidence=0.9394463896751404, text='२०८०  असोज', bbox=[697.0, 1942.0, 945.0, 1984.0])]"
      ]
     },
     "execution_count": 7,
     "metadata": {},
     "output_type": "execute_result"
    }
   ],
   "source": [
    "list(predictions2[0])[0][1]"
   ]
  },
  {
   "cell_type": "code",
   "execution_count": 28,
   "metadata": {},
   "outputs": [],
   "source": [
    "def format_text(predictions):\n",
    "    predictions = my_predictions(list(predictions[0])[0][1])\n",
    "    data = sorted(predictions,key=lambda x: (x.bbox[1]))\n",
    "    prev_y_temp = 0    \n",
    "    for pred in data:\n",
    "        if pred.bbox[1] - prev_y_temp < 30:            \n",
    "            pred.bbox[1] = prev_y_temp            \n",
    "        else:\n",
    "            prev_y_temp = pred.bbox[1]    \n",
    "    data = sorted(data,key=lambda x: (x.bbox[1],x.bbox[0]))\n",
    "    formatted_text = ''\n",
    "    min_x = min(data,key=lambda x: x.bbox[0]).bbox[0]\n",
    "    min_y = data[0].bbox[1]\n",
    "    prev_x_max = 0    \n",
    "    prev_y_max = 0\n",
    "    prev_y = 0    \n",
    "    for pred in data:\n",
    "        current_x = pred.bbox[0] - min_x\n",
    "        current_y = pred.bbox[1] - min_y        \n",
    "        current_y_max = pred.bbox[3] - min_y\n",
    "        line_breaks = '\\n'*int(((current_y-prev_y_max)/60))\n",
    "        if line_breaks:\n",
    "            prev_x_max = 0                        \n",
    "        #blanks = ' '*int(((current_x-prev_x_max)/8))\n",
    "        formatted_text += line_breaks\n",
    "        #formatted_text += blanks\n",
    "        formatted_text += ' ' *int(current_x/15)\n",
    "        formatted_text += pred.text +'\\n'\n",
    "        prev_x_max = pred.bbox[2]\n",
    "        prev_y = current_y\n",
    "        prev_y_max = current_y_max\n",
    "    return formatted_text"
   ]
  },
  {
   "cell_type": "code",
   "execution_count": 29,
   "metadata": {},
   "outputs": [
    {
     "name": "stdout",
     "output_type": "stream",
     "text": [
      "           नेपाल राष्ट्र बैंकबाट “क”, “ख” र “ग” वर्गका\n",
      "             इजाजतपत्रप्राप्त  संस्थाहरुलाई  जारी  गरिएको\n",
      "\n",
      "\n",
      "\n",
      "                   एकीकृत  निर्देशन,  २०८०\n",
      "\n",
      "(एकीकृत निर्देशन, २०७९ र सो पश्चात २०८० असोज मसान्त सम्म जारी भएका\n",
      "          परिपत्र / निर्देशन  समेतलाई  समावेश  गरी  परिमार्जन  गरिएको)\n",
      "\n",
      "\n",
      "\n",
      "\n",
      "\n",
      "\n",
      "\n",
      "\n",
      "\n",
      "\n",
      "\n",
      "\n",
      "\n",
      "\n",
      "\n",
      "\n",
      "\n",
      "                              नेपाल  राष्ट्र  बैंक\n",
      "                              केन्द्रीय  कार्यालय\n",
      "                बैंक  तथा  वित्तीय  संस्था  नियमन  विभाग\n",
      "                                २०८०  असोज\n",
      "\n"
     ]
    }
   ],
   "source": [
    "this = format_text(predictions2)\n",
    "print(this)"
   ]
  },
  {
   "cell_type": "code",
   "execution_count": 90,
   "metadata": {},
   "outputs": [
    {
     "name": "stdout",
     "output_type": "stream",
     "text": [
      "Text width: 10.0 points\n"
     ]
    }
   ],
   "source": [
    "from reportlab.pdfbase import pdfmetrics\n",
    "from reportlab.pdfbase.ttfonts import TTFont\n",
    "\n",
    "# Register a custom font (optional, for Nepali text)\n",
    "pdfmetrics.registerFont(TTFont(\"Mangal\", r\"D:\\Programming\\AI\\Basics\\intern-assignments\\SuryaOCR\\Mangal Regular\\Mangal Regular.otf\"))\n",
    "\n",
    "# Get text width\n",
    "def get_text_width(text, font_name, font_size):\n",
    "    return pdfmetrics.stringWidth(text, font_name, font_size)\n",
    "\n",
    "# Example usage\n",
    "text = \" \"\n",
    "font_name = \"Mangal\"  # Use a registered font\n",
    "font_size = 20       # Specify the font size\n",
    "\n",
    "text_width = get_text_width(text, font_name, font_size)\n",
    "print(f\"Text width: {text_width} points\")"
   ]
  },
  {
   "cell_type": "code",
   "execution_count": 44,
   "metadata": {},
   "outputs": [
    {
     "data": {
      "text/plain": [
       "167.0"
      ]
     },
     "execution_count": 44,
     "metadata": {},
     "output_type": "execute_result"
    }
   ],
   "source": [
    "sorted(list(predictions[0])[0][1],key=lambda x: (x.bbox[1],x.bbox[0]))[0].bbox[1]"
   ]
  },
  {
   "cell_type": "code",
   "execution_count": 35,
   "metadata": {},
   "outputs": [
    {
     "name": "stdout",
     "output_type": "stream",
     "text": [
      "Loaded detection model vikp/surya_det3 on device cpu with dtype torch.float32\n",
      "Loaded recognition model vikp/surya_rec2 on device cpu with dtype torch.float32\n"
     ]
    },
    {
     "name": "stderr",
     "output_type": "stream",
     "text": [
      "Detecting bboxes: 100%|██████████| 1/1 [00:08<00:00,  8.43s/it]\n",
      "Recognizing Text: 100%|██████████| 1/1 [00:58<00:00, 58.09s/it]\n"
     ]
    },
    {
     "name": "stdout",
     "output_type": "stream",
     "text": [
      "Loaded detection model vikp/surya_det3 on device cpu with dtype torch.float32\n",
      "Loaded recognition model vikp/surya_rec2 on device cpu with dtype torch.float32\n"
     ]
    },
    {
     "name": "stderr",
     "output_type": "stream",
     "text": [
      "Detecting bboxes: 100%|██████████| 1/1 [00:08<00:00,  8.08s/it]\n",
      "Recognizing Text: 100%|██████████| 1/1 [00:17<00:00, 17.40s/it]\n"
     ]
    },
    {
     "name": "stdout",
     "output_type": "stream",
     "text": [
      "Loaded detection model vikp/surya_det3 on device cpu with dtype torch.float32\n",
      "Loaded recognition model vikp/surya_rec2 on device cpu with dtype torch.float32\n"
     ]
    },
    {
     "name": "stderr",
     "output_type": "stream",
     "text": [
      "Detecting bboxes: 100%|██████████| 1/1 [00:07<00:00,  7.85s/it]\n",
      "Recognizing Text: 100%|██████████| 1/1 [00:21<00:00, 22.00s/it]\n"
     ]
    },
    {
     "name": "stdout",
     "output_type": "stream",
     "text": [
      "Loaded detection model vikp/surya_det3 on device cpu with dtype torch.float32\n",
      "Loaded recognition model vikp/surya_rec2 on device cpu with dtype torch.float32\n"
     ]
    },
    {
     "name": "stderr",
     "output_type": "stream",
     "text": [
      "Detecting bboxes: 100%|██████████| 1/1 [00:10<00:00, 10.68s/it]\n",
      "Recognizing Text: 100%|██████████| 2/2 [02:02<00:00, 61.37s/it]\n"
     ]
    },
    {
     "name": "stdout",
     "output_type": "stream",
     "text": [
      "Loaded detection model vikp/surya_det3 on device cpu with dtype torch.float32\n",
      "Loaded recognition model vikp/surya_rec2 on device cpu with dtype torch.float32\n"
     ]
    },
    {
     "name": "stderr",
     "output_type": "stream",
     "text": [
      "Detecting bboxes: 100%|██████████| 1/1 [00:10<00:00, 10.19s/it]\n",
      "Recognizing Text: 100%|██████████| 2/2 [01:32<00:00, 46.03s/it]\n"
     ]
    },
    {
     "name": "stdout",
     "output_type": "stream",
     "text": [
      "Loaded detection model vikp/surya_det3 on device cpu with dtype torch.float32\n",
      "Loaded recognition model vikp/surya_rec2 on device cpu with dtype torch.float32\n"
     ]
    },
    {
     "name": "stderr",
     "output_type": "stream",
     "text": [
      "Detecting bboxes: 100%|██████████| 1/1 [00:09<00:00,  9.02s/it]\n",
      "Recognizing Text: 100%|██████████| 2/2 [01:42<00:00, 51.05s/it]\n"
     ]
    },
    {
     "name": "stdout",
     "output_type": "stream",
     "text": [
      "Loaded detection model vikp/surya_det3 on device cpu with dtype torch.float32\n",
      "Loaded recognition model vikp/surya_rec2 on device cpu with dtype torch.float32\n"
     ]
    },
    {
     "name": "stderr",
     "output_type": "stream",
     "text": [
      "Detecting bboxes: 100%|██████████| 1/1 [00:08<00:00,  8.74s/it]\n",
      "Recognizing Text: 100%|██████████| 3/3 [02:52<00:00, 57.59s/it]\n"
     ]
    },
    {
     "name": "stdout",
     "output_type": "stream",
     "text": [
      "Loaded detection model vikp/surya_det3 on device cpu with dtype torch.float32\n",
      "Loaded recognition model vikp/surya_rec2 on device cpu with dtype torch.float32\n"
     ]
    },
    {
     "name": "stderr",
     "output_type": "stream",
     "text": [
      "Detecting bboxes: 100%|██████████| 1/1 [00:09<00:00,  9.71s/it]\n",
      "Recognizing Text: 100%|██████████| 2/2 [01:59<00:00, 59.94s/it]\n"
     ]
    }
   ],
   "source": [
    "output_path = \"final.txt\"\n",
    "#image_paths = ['D:\\Programming\\AI\\Basics\\intern-assignments\\SuryaOCR\\page_8.png']\n",
    "with open(output_path, \"w\", encoding=\"utf-8\") as f:    \n",
    "    for page,image_path in enumerate(image_paths):\n",
    "        f.write(f'\\n----------------------------------- Page {page+1} -----------------------------------\\n')\n",
    "        predictions = detect_text(image_path)\n",
    "        formatted_text = format_text(predictions)\n",
    "        f.write(formatted_text)"
   ]
  },
  {
   "cell_type": "code",
   "execution_count": 17,
   "metadata": {},
   "outputs": [
    {
     "name": "stdout",
     "output_type": "stream",
     "text": [
      "                                                              केन्द्रीय कार्यालय\n",
      "                                                            बालुवाटार, काठमाडाँ ।\n",
      "                                                          फोन नं.: ४४९९८०४ /५\n",
      "नंपाल राष्ट्र बैंक\n",
      "                                                           Web Site: www.nrb.org.np\n",
      "                                                              पोष्ट बक्स:७३\n",
      "बैंक तथा वित्तीय संस्था नियमन विभाग\n",
      "पत्र  संख्या:  बै.वि.नि.वि. / नीति / परिपत्र / 0 ४ / ०८० / ८१\n",
      "                                                              मिति: २०८०/०६/३०\n",
      "इजाजतपत्रप्रप्राप्त “क”, “ख” र “ग” वर्गका बैंक तथा वित्तीय संस्थाहरु,\n",
      "महाशय.\n",
      "  यस वैंकवाट “क” “ख” र “ग” वर्गका इजाजतपत्रप्राप्त बैंक तथा वित्तीय संस्थाहरुलाई जारी\n",
      "गरिएको एकीकृत निर्देशन, २०७९ तथा सो पश्चीत २०८० असोज मसान्तसम्म जारी गरिएका परिपत्र\n",
      "तथा संशोधनहरु एकीकृत गरी तयार पारिएको यसै साथ संलग्न एकीकृत निर्देशन, २०५० जारी गरिएको\n",
      "हुँदा सोहीबमोजिम गर्नु/गराउनु हुन नेपाल राष्ट्र बैंक ऐन, २०५८ को दफा ७९ ले दिएको अधिकार\n",
      "प्रयोग गरी यो निर्देशन जारी गरिएको छ ।\n",
      "                                                             भवदीय.\n",
      "                                                        (डा.सत्येन्द्र  तिमिल्सिना)\n",
      "\n"
     ]
    }
   ],
   "source": [
    "print(formatted_text)"
   ]
  },
  {
   "cell_type": "code",
   "execution_count": null,
   "metadata": {},
   "outputs": [],
   "source": []
  }
 ],
 "metadata": {
  "kernelspec": {
   "display_name": "Python 3",
   "language": "python",
   "name": "python3"
  },
  "language_info": {
   "codemirror_mode": {
    "name": "ipython",
    "version": 3
   },
   "file_extension": ".py",
   "mimetype": "text/x-python",
   "name": "python",
   "nbconvert_exporter": "python",
   "pygments_lexer": "ipython3",
   "version": "3.11.2"
  }
 },
 "nbformat": 4,
 "nbformat_minor": 2
}
