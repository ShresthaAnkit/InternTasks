{
 "cells": [
  {
   "cell_type": "code",
   "execution_count": 10,
   "metadata": {},
   "outputs": [
    {
     "name": "stdout",
     "output_type": "stream",
     "text": [
      "Requirement already satisfied: surya-ocr in c:\\users\\ankit\\appdata\\local\\programs\\python\\python311\\lib\\site-packages (0.7.0)\n",
      "Requirement already satisfied: filetype<2.0.0,>=1.2.0 in c:\\users\\ankit\\appdata\\local\\programs\\python\\python311\\lib\\site-packages (from surya-ocr) (1.2.0)\n",
      "Requirement already satisfied: ftfy<7.0.0,>=6.1.3 in c:\\users\\ankit\\appdata\\local\\programs\\python\\python311\\lib\\site-packages (from surya-ocr) (6.3.1)\n",
      "Requirement already satisfied: opencv-python<5.0.0.0,>=4.9.0.80 in c:\\users\\ankit\\appdata\\local\\programs\\python\\python311\\lib\\site-packages (from surya-ocr) (4.10.0.82)\n",
      "Requirement already satisfied: pdftext<0.4.0,>=0.3.18 in c:\\users\\ankit\\appdata\\local\\programs\\python\\python311\\lib\\site-packages (from surya-ocr) (0.3.20)\n",
      "Requirement already satisfied: pillow<11.0.0,>=10.2.0 in c:\\users\\ankit\\appdata\\local\\programs\\python\\python311\\lib\\site-packages (from surya-ocr) (10.4.0)\n",
      "Requirement already satisfied: pydantic<3.0.0,>=2.5.3 in c:\\users\\ankit\\appdata\\local\\programs\\python\\python311\\lib\\site-packages (from surya-ocr) (2.10.3)\n",
      "Requirement already satisfied: pydantic-settings<3.0.0,>=2.1.0 in c:\\users\\ankit\\appdata\\local\\programs\\python\\python311\\lib\\site-packages (from surya-ocr) (2.6.1)\n",
      "Requirement already satisfied: pypdfium2<5.0.0,>=4.25.0 in c:\\users\\ankit\\appdata\\local\\programs\\python\\python311\\lib\\site-packages (from surya-ocr) (4.30.0)\n",
      "Requirement already satisfied: python-dotenv<2.0.0,>=1.0.0 in c:\\users\\ankit\\appdata\\local\\programs\\python\\python311\\lib\\site-packages (from surya-ocr) (1.0.1)\n",
      "Requirement already satisfied: tabulate<0.10.0,>=0.9.0 in c:\\users\\ankit\\appdata\\local\\programs\\python\\python311\\lib\\site-packages (from surya-ocr) (0.9.0)\n",
      "Requirement already satisfied: torch<3.0.0,>=2.4.1 in c:\\users\\ankit\\appdata\\local\\programs\\python\\python311\\lib\\site-packages (from surya-ocr) (2.5.1)\n",
      "Requirement already satisfied: transformers<5.0.0,>=4.41.0 in c:\\users\\ankit\\appdata\\local\\programs\\python\\python311\\lib\\site-packages (from surya-ocr) (4.44.2)\n",
      "Requirement already satisfied: wcwidth in c:\\users\\ankit\\appdata\\roaming\\python\\python311\\site-packages (from ftfy<7.0.0,>=6.1.3->surya-ocr) (0.2.13)\n",
      "Requirement already satisfied: numpy>=1.21.2 in c:\\users\\ankit\\appdata\\local\\programs\\python\\python311\\lib\\site-packages (from opencv-python<5.0.0.0,>=4.9.0.80->surya-ocr) (1.24.3)\n",
      "Requirement already satisfied: onnxruntime<2.0.0,>=1.19.2 in c:\\users\\ankit\\appdata\\local\\programs\\python\\python311\\lib\\site-packages (from pdftext<0.4.0,>=0.3.18->surya-ocr) (1.20.1)\n",
      "Requirement already satisfied: annotated-types>=0.6.0 in c:\\users\\ankit\\appdata\\local\\programs\\python\\python311\\lib\\site-packages (from pydantic<3.0.0,>=2.5.3->surya-ocr) (0.7.0)\n",
      "Requirement already satisfied: pydantic-core==2.27.1 in c:\\users\\ankit\\appdata\\local\\programs\\python\\python311\\lib\\site-packages (from pydantic<3.0.0,>=2.5.3->surya-ocr) (2.27.1)\n",
      "Requirement already satisfied: typing-extensions>=4.12.2 in c:\\users\\ankit\\appdata\\local\\programs\\python\\python311\\lib\\site-packages (from pydantic<3.0.0,>=2.5.3->surya-ocr) (4.12.2)\n",
      "Requirement already satisfied: filelock in c:\\users\\ankit\\appdata\\local\\programs\\python\\python311\\lib\\site-packages (from torch<3.0.0,>=2.4.1->surya-ocr) (3.12.4)\n",
      "Requirement already satisfied: networkx in c:\\users\\ankit\\appdata\\local\\programs\\python\\python311\\lib\\site-packages (from torch<3.0.0,>=2.4.1->surya-ocr) (3.4.2)\n",
      "Requirement already satisfied: jinja2 in c:\\users\\ankit\\appdata\\local\\programs\\python\\python311\\lib\\site-packages (from torch<3.0.0,>=2.4.1->surya-ocr) (3.1.3)\n",
      "Requirement already satisfied: fsspec in c:\\users\\ankit\\appdata\\local\\programs\\python\\python311\\lib\\site-packages (from torch<3.0.0,>=2.4.1->surya-ocr) (2024.9.0)\n",
      "Requirement already satisfied: sympy==1.13.1 in c:\\users\\ankit\\appdata\\local\\programs\\python\\python311\\lib\\site-packages (from torch<3.0.0,>=2.4.1->surya-ocr) (1.13.1)\n",
      "Requirement already satisfied: mpmath<1.4,>=1.1.0 in c:\\users\\ankit\\appdata\\local\\programs\\python\\python311\\lib\\site-packages (from sympy==1.13.1->torch<3.0.0,>=2.4.1->surya-ocr) (1.3.0)\n",
      "Requirement already satisfied: huggingface-hub<1.0,>=0.23.2 in c:\\users\\ankit\\appdata\\local\\programs\\python\\python311\\lib\\site-packages (from transformers<5.0.0,>=4.41.0->surya-ocr) (0.25.0)\n",
      "Requirement already satisfied: packaging>=20.0 in c:\\users\\ankit\\appdata\\roaming\\python\\python311\\site-packages (from transformers<5.0.0,>=4.41.0->surya-ocr) (23.2)\n",
      "Requirement already satisfied: pyyaml>=5.1 in c:\\users\\ankit\\appdata\\local\\programs\\python\\python311\\lib\\site-packages (from transformers<5.0.0,>=4.41.0->surya-ocr) (6.0.1)\n",
      "Requirement already satisfied: regex!=2019.12.17 in c:\\users\\ankit\\appdata\\local\\programs\\python\\python311\\lib\\site-packages (from transformers<5.0.0,>=4.41.0->surya-ocr) (2024.9.11)\n",
      "Requirement already satisfied: requests in c:\\users\\ankit\\appdata\\local\\programs\\python\\python311\\lib\\site-packages (from transformers<5.0.0,>=4.41.0->surya-ocr) (2.31.0)\n",
      "Requirement already satisfied: safetensors>=0.4.1 in c:\\users\\ankit\\appdata\\local\\programs\\python\\python311\\lib\\site-packages (from transformers<5.0.0,>=4.41.0->surya-ocr) (0.4.5)\n",
      "Requirement already satisfied: tokenizers<0.20,>=0.19 in c:\\users\\ankit\\appdata\\local\\programs\\python\\python311\\lib\\site-packages (from transformers<5.0.0,>=4.41.0->surya-ocr) (0.19.1)\n",
      "Requirement already satisfied: tqdm>=4.27 in c:\\users\\ankit\\appdata\\local\\programs\\python\\python311\\lib\\site-packages (from transformers<5.0.0,>=4.41.0->surya-ocr) (4.66.5)\n",
      "Requirement already satisfied: coloredlogs in c:\\users\\ankit\\appdata\\local\\programs\\python\\python311\\lib\\site-packages (from onnxruntime<2.0.0,>=1.19.2->pdftext<0.4.0,>=0.3.18->surya-ocr) (15.0.1)\n",
      "Requirement already satisfied: flatbuffers in c:\\users\\ankit\\appdata\\local\\programs\\python\\python311\\lib\\site-packages (from onnxruntime<2.0.0,>=1.19.2->pdftext<0.4.0,>=0.3.18->surya-ocr) (23.5.26)\n",
      "Requirement already satisfied: protobuf in c:\\users\\ankit\\appdata\\local\\programs\\python\\python311\\lib\\site-packages (from onnxruntime<2.0.0,>=1.19.2->pdftext<0.4.0,>=0.3.18->surya-ocr) (4.25.3)\n",
      "Requirement already satisfied: colorama in c:\\users\\ankit\\appdata\\local\\programs\\python\\python311\\lib\\site-packages (from tqdm>=4.27->transformers<5.0.0,>=4.41.0->surya-ocr) (0.4.6)\n",
      "Requirement already satisfied: MarkupSafe>=2.0 in c:\\users\\ankit\\appdata\\local\\programs\\python\\python311\\lib\\site-packages (from jinja2->torch<3.0.0,>=2.4.1->surya-ocr) (2.1.5)\n",
      "Requirement already satisfied: charset-normalizer<4,>=2 in c:\\users\\ankit\\appdata\\local\\programs\\python\\python311\\lib\\site-packages (from requests->transformers<5.0.0,>=4.41.0->surya-ocr) (3.1.0)\n",
      "Requirement already satisfied: idna<4,>=2.5 in c:\\users\\ankit\\appdata\\local\\programs\\python\\python311\\lib\\site-packages (from requests->transformers<5.0.0,>=4.41.0->surya-ocr) (2.10)\n",
      "Requirement already satisfied: urllib3<3,>=1.21.1 in c:\\users\\ankit\\appdata\\local\\programs\\python\\python311\\lib\\site-packages (from requests->transformers<5.0.0,>=4.41.0->surya-ocr) (1.26.6)\n",
      "Requirement already satisfied: certifi>=2017.4.17 in c:\\users\\ankit\\appdata\\local\\programs\\python\\python311\\lib\\site-packages (from requests->transformers<5.0.0,>=4.41.0->surya-ocr) (2021.5.30)\n",
      "Requirement already satisfied: humanfriendly>=9.1 in c:\\users\\ankit\\appdata\\local\\programs\\python\\python311\\lib\\site-packages (from coloredlogs->onnxruntime<2.0.0,>=1.19.2->pdftext<0.4.0,>=0.3.18->surya-ocr) (10.0)\n",
      "Requirement already satisfied: pyreadline3 in c:\\users\\ankit\\appdata\\local\\programs\\python\\python311\\lib\\site-packages (from humanfriendly>=9.1->coloredlogs->onnxruntime<2.0.0,>=1.19.2->pdftext<0.4.0,>=0.3.18->surya-ocr) (3.5.4)\n"
     ]
    }
   ],
   "source": [
    "!pip install surya-ocr"
   ]
  },
  {
   "cell_type": "code",
   "execution_count": 11,
   "metadata": {},
   "outputs": [
    {
     "name": "stdout",
     "output_type": "stream",
     "text": [
      "WARNING:tensorflow:From c:\\Users\\Ankit\\AppData\\Local\\Programs\\Python\\Python311\\Lib\\site-packages\\keras\\src\\losses.py:2976: The name tf.losses.sparse_softmax_cross_entropy is deprecated. Please use tf.compat.v1.losses.sparse_softmax_cross_entropy instead.\n",
      "\n"
     ]
    }
   ],
   "source": [
    "from PIL import Image\n",
    "from surya.ocr import run_ocr\n",
    "from surya.model.detection.model import load_model as load_det_model, load_processor as load_det_processor\n",
    "from surya.model.recognition.model import load_model as load_rec_model\n",
    "from surya.model.recognition.processor import load_processor as load_rec_processor\n"
   ]
  },
  {
   "cell_type": "code",
   "execution_count": 12,
   "metadata": {},
   "outputs": [
    {
     "name": "stdout",
     "output_type": "stream",
     "text": [
      "False\n"
     ]
    }
   ],
   "source": [
    "import torch\n",
    "print(torch.cuda.is_available())"
   ]
  },
  {
   "cell_type": "markdown",
   "metadata": {},
   "source": [
    "## Extract a few pages from the pdf"
   ]
  },
  {
   "cell_type": "code",
   "execution_count": 2,
   "metadata": {},
   "outputs": [
    {
     "name": "stdout",
     "output_type": "stream",
     "text": [
      "New PDF created: sample1.pdf\n"
     ]
    }
   ],
   "source": [
    "from PyPDF2 import PdfReader, PdfWriter\n",
    "\n",
    "def extract_pages(input_pdf, output_pdf, pages_to_extract):\n",
    "    # Create a PDF reader and writer\n",
    "    reader = PdfReader(input_pdf)\n",
    "    writer = PdfWriter()\n",
    "    \n",
    "    # Extract the specified pages\n",
    "    for page_num in pages_to_extract:\n",
    "        writer.add_page(reader.pages[page_num])\n",
    "\n",
    "    # Write the extracted pages to a new PDF\n",
    "    with open(output_pdf, 'wb') as output_file:\n",
    "        writer.write(output_file)\n",
    "\n",
    "    print(f\"New PDF created: {output_pdf}\")\n",
    "\n",
    "\n",
    "input_pdf = r'D:\\Programming\\AI\\Basics\\intern-assignments\\SuryaOCR\\Unified-Directives-2080-Circular-Final-Published.pdf' \n",
    "output_pdf = 'sample1.pdf'       \n",
    "pages_to_extract = [8]           \n",
    "\n",
    "extract_pages(input_pdf, output_pdf, pages_to_extract)\n"
   ]
  },
  {
   "cell_type": "markdown",
   "metadata": {},
   "source": [
    "## Testing Surya OCR"
   ]
  },
  {
   "cell_type": "code",
   "execution_count": null,
   "metadata": {},
   "outputs": [],
   "source": [
    "image = Image.open('test.png')\n",
    "langs = [\"en\",'ne'] # Replace with your languages - optional but recommended\n",
    "det_processor, det_model = load_det_processor(), load_det_model()\n",
    "rec_model, rec_processor = load_rec_model(), load_rec_processor()\n",
    "\n",
    "predictions = run_ocr([image], [langs], det_model, det_processor, rec_model, rec_processor)"
   ]
  },
  {
   "cell_type": "markdown",
   "metadata": {},
   "source": [
    "### Testing the predictions variable"
   ]
  },
  {
   "cell_type": "code",
   "execution_count": 20,
   "metadata": {},
   "outputs": [
    {
     "data": {
      "text/plain": [
       "'बालुवाटार, काठमाडाँ ।'"
      ]
     },
     "execution_count": 20,
     "metadata": {},
     "output_type": "execute_result"
    }
   ],
   "source": [
    "list(predictions[0])[0][1][1].text"
   ]
  },
  {
   "cell_type": "markdown",
   "metadata": {},
   "source": [
    "### Convert the few extracted pages into images"
   ]
  },
  {
   "cell_type": "code",
   "execution_count": 14,
   "metadata": {},
   "outputs": [],
   "source": [
    "from pdf2image import convert_from_path\n",
    "\n",
    "pdf_path = 'D:\\Programming\\AI\\Basics\\intern-assignments\\SuryaOCR\\sample.pdf'\n",
    "\n",
    "images = convert_from_path(pdf_path)\n",
    "image_paths = []\n",
    "for i, image in enumerate(images):\n",
    "    # Save each page as an image file\n",
    "    image_path = f\"page_{i + 1}.png\"\n",
    "    image.save(image_path, 'PNG')\n",
    "    image_paths.append(image_path)"
   ]
  },
  {
   "cell_type": "markdown",
   "metadata": {},
   "source": [
    "### Run SuryaOCR on the converted images and obtain text"
   ]
  },
  {
   "cell_type": "code",
   "execution_count": 18,
   "metadata": {},
   "outputs": [
    {
     "name": "stdout",
     "output_type": "stream",
     "text": [
      "Loaded detection model vikp/surya_det3 on device cpu with dtype torch.float32\n",
      "Loaded recognition model vikp/surya_rec2 on device cpu with dtype torch.float32\n"
     ]
    },
    {
     "name": "stderr",
     "output_type": "stream",
     "text": [
      "c:\\Users\\Ankit\\AppData\\Local\\Programs\\Python\\Python311\\Lib\\site-packages\\transformers\\tokenization_utils_base.py:1601: FutureWarning: `clean_up_tokenization_spaces` was not set. It will be set to `True` by default. This behavior will be depracted in transformers v4.45, and will be then set to `False` by default. For more details check this issue: https://github.com/huggingface/transformers/issues/31884\n",
      "  warnings.warn(\n",
      "Detecting bboxes: 100%|██████████| 1/1 [00:07<00:00,  7.55s/it]\n",
      "Recognizing Text: 100%|██████████| 1/1 [00:58<00:00, 58.31s/it]\n"
     ]
    },
    {
     "name": "stdout",
     "output_type": "stream",
     "text": [
      "Loaded detection model vikp/surya_det3 on device cpu with dtype torch.float32\n",
      "Loaded recognition model vikp/surya_rec2 on device cpu with dtype torch.float32\n"
     ]
    },
    {
     "name": "stderr",
     "output_type": "stream",
     "text": [
      "Detecting bboxes: 100%|██████████| 1/1 [00:08<00:00,  8.63s/it]\n",
      "Recognizing Text: 100%|██████████| 2/2 [01:05<00:00, 32.61s/it]\n"
     ]
    },
    {
     "name": "stdout",
     "output_type": "stream",
     "text": [
      "Loaded detection model vikp/surya_det3 on device cpu with dtype torch.float32\n",
      "Loaded recognition model vikp/surya_rec2 on device cpu with dtype torch.float32\n"
     ]
    },
    {
     "name": "stderr",
     "output_type": "stream",
     "text": [
      "Detecting bboxes: 100%|██████████| 1/1 [00:07<00:00,  7.29s/it]\n",
      "Recognizing Text: 100%|██████████| 2/2 [01:12<00:00, 36.11s/it]\n"
     ]
    }
   ],
   "source": [
    "ocr_text = ''\n",
    "for page,image in enumerate(image_paths):\n",
    "    ocr_text += f'----------Page {page+1}----------\\n'\n",
    "    image = Image.open(image)\n",
    "    langs = [\"en\",'ne'] \n",
    "    det_processor, det_model = load_det_processor(), load_det_model()\n",
    "    rec_model, rec_processor = load_rec_model(), load_rec_processor()\n",
    "\n",
    "    predictions = run_ocr([image], [langs], det_model, det_processor, rec_model, rec_processor)\n",
    "    pred_list = list(predictions[0])[0][1]\n",
    "    for pred in pred_list:\n",
    "        ocr_text += pred.text + '\\n'    "
   ]
  },
  {
   "cell_type": "code",
   "execution_count": 19,
   "metadata": {},
   "outputs": [
    {
     "data": {
      "text/plain": [
       "'----------Page 1----------\\nनेपाल  राष्ट्र  बैंक\\nकेन्द्रीय  कार्यालय\\nबैंक तथा वित्तीय संस्था नियमन विभाग\\nइ.प्रा.निर्देशन नं. २/०८०\\nकर्जा प्रवाह, वर्गीकरण तथा कर्जा नोक्सानी सम्बन्धी व्यवस्था ।\\nयस बैंकबाट “क”, “ख” र “ग” वर्गका इजाजतपत्रप्राप्त संस्थाले प्रवाह गरेको कर्जा सापटको वर्गीकरण र\\nसोको सम्भावित नोक्सानीमा कायम गर्नु पर्ने व्यवस्थाका सम्बन्धमा नेपाल राष्ट्र बैंक ऐन, २०५८ को दफा ७९ ले\\nदिएको अधिकार प्रयोग गरी देहायका निर्देशन जारी गरिएको छ ।\\n१.      कर्जा  सापटको  वर्गीकरण\\nइजाजतपत्रप्राप्त संस्थाले प्रवाह गरेको कर्जा/सापटको साँवा वा व्याज भुक्तानी हुनुपर्ने भाखा नाघेको अवधिका\\nआधारमा सम्पूर्ण कर्जा सापटलाई देहाय बमोजिम वर्गीकरण गर्नु पर्नेछ :\\n(क) संकिय कजो (Performing Loan): संकिय कजांमा निम्नानुसारका असल र सूक्ष्म निगरानी कर्जा पर्नेछन्:\\n(१)  असल  (Pass)  :\\n(अ)  भाखा  ननाघेका  र  १  महिनासम्म  भाखा  नाघेका  कर्जा / सापट,\\n(आ)  मुद्दती  रसिदको  धितोमा  गएका  कर्जा  तथा  सापट,\\n(इ) नेपाल सरकारको सुरक्षणपत्र तथा नेपाल राष्ट्र बैंक ऋणपत्रको धितोमा गएका कर्जा तथा सापट,\\n(ई) पर्याप्त सुरक्षण लिई प्रति ग्राहक बढीमा रु. १० लाखसम्म प्रवाह भएको सुनचाँदी कर्जा ।\\nतर, अतिरिक्त धितो सुरक्षण वापत मुद्दती रसिद वा नेपाल सरकारको सुरक्षणपत्र वा नेपाल राष्ट्र\\nबैंक ऋणपत्र धितो राखी कर्जा प्रवाह गरेमा त्यस्ता कर्जा तथा सापट र रु. १० लाखभन्दा\\nबढीको स्नचाँदी धितो कर्जालाई भने भाखा नाघेको आधारमा वर्गीकरण गर्नु पनेछ ।\\n(२) सूक्ष्म निगरानी (WatchList)  :\\n(अ)  १  महिनादेखि  ३  महिनासम्म  भाखा  नाघेका  कर्जा / सापट\\n(आ) १ महिना भित्र नविकरण नभएका वा अस्थायी रुपमा बढीमा ९० दिनसम्म भुक्तानी अवधि\\nबढाईएका  अल्पकालीन  वा  चालुपुँजी  कजां  ।\\n(इ)  अन्य कुनै पनि बैंक वा वित्तीय संस्थामा निष्कृय कर्जामा वर्गीकरण भएको श्रुणीलाई प्रवाहित\\nकर्जा । \\n(ई)   साँवा र  व्याज नियमित रुपमा भुक्तानी भएतापनि नेटवर्थ ऋणात्मक भएका वा लगातार\\nतीनवर्षदेखि खुद नोक्सानीमा रहेको फर्म, कम्पनी वा संस्थालाई प्रवाहित कर्जा ।\\n\\n----------Page 2----------\\nतर, निर्माणाधीन अवस्थामा रहेका परियोजनालाई प्रदान गरिएका कर्जाको हकमा परियोजनाले\\nव्यवसायिक उत्पादन शुरु गरे पश्चात ३ पूर्ण आर्थिक वर्षको वित्तीय विवरणको आधारमा मात्र\\nयो  व्यवस्था  लाग्  हुनेछ  ।\\n(उ)  रु. २  अर्ब वा सो भन्दा बढी रकमका सह-वित्तीयकरण कर्जामा परिणत नभएका बहुबैंकिङ्ग कर्जा ।\\n(ऊ) यस बैंकले निरीक्षण गर्दा ऋणीको नगद प्रवाह तथा परियोजना सञ्चालनको अवस्था कमजोर\\nभएको आधारमा सूक्ष्म निगरानीमा राख्ने भनी निर्देशन दिइएका कर्जा ।\\n(ऋ)  कजो  स्वपुॅजी  अनुपात  (Debt to Equity Ratio)  ८०:२०  भन्दा  बढी  हुने  गरी  प्रवाह  भएका  कर्जा  ।\\nयस प्रयोजनका लागि सम्पत्तिको पुनर्मूल्यांकन गर्दा कुनै पनि फर्म, कम्पनी, वा संस्थाले सम्पत्ति\\nपुनर्मूल्यांकन  सम्बन्धी  लेखामान  मापदण्डको  पूर्ण  पालनाका  आधारमा  सिर्जित  सम्पत्ति  मात्र\\nस्वपुँजीमा  गणना  गर्न  पाउने  छ  ।\\n(ए)  यस बैंकले तोके बमोजिमको ऋण भुक्तानी आम्दानी अनुपात कायम नगरेका कर्जा ।\\n(ख) निष्कृय कर्जा (Non-Performing Loan): निष्कृय कर्जालाई निम्नानुसारका वर्गीकरण गर्नुपर्नेछ :\\n(१) कमसल (Sub-standard): ३ महिनादेखि ६ महिनासम्म भाखा नाघेका कर्जा ⁄ सापट ।\\n(२) शंकास्पद (Doubtful) : ६ महिनादेखि बढीमा १ वर्षसम्म भाखा नाघेका कर्जा ⁄ सापट ।\\n(३) खराब (Loss) : १ वर्षभन्दा बढी अवधिले भाखा नाघेका कर्जा / सापट ।\\n(४) बुँदा ८ बमोजिम पुनरतालिकीकरण ⁄ पुनरसंरचना गरिएका कर्जा ।\\nअसल  कर्जा  सम्बन्धी  थप  व्यवस्था\\n२.\\nइजाजतपत्रप्राप्त संस्थाले ऋणीको कर्जा तिर्न सक्ने क्षमता, भावी नगद प्रवाह, आम्दानीको स्रोत जस्ता कर्जा\\nप्रवाहका  न्यूनतम  आधारहरुको  विश्लेषण  पश्चात  कर्जा  सदुपयोगको  सुनिश्चितता  हुने  गरी  मात्र  कजां\\nप्रवाह / नवीकरण  गर्नुपर्नेछ ।\\nखराब कर्जा सम्बन्धी थप व्यवस्था\\n इ.  \\nभाखा नाघेको वा ननाघेको क्नै पनि कर्जा/सापटलाई देहायको क्नै पनि अवस्थामा खराब कर्जामा वर्गीकरण\\nगर्नुपर्नेछ र सो को लागि बैंक तथा वित्तीय संस्थाले उपयुक्त प्रणाली एवम् पूर्वाधारको विकास गर्नुपनेछ :-\\n(क) ऋणी टाट पल्टेमा वा टाट पल्टेको घोषणा भएमा,\\n(ख) ऋणी बेपत्ता भएमा वा ९० दिनसम्म सम्पर्कमा नआएमा,\\n(ग)  कर्जा  दुरुपयोग  भएमा,\\n(घ) परियोजना / व्यवसाय सञ्चालन हुने अवस्था नरहेमा, परियोजना वा व्यवसाय सञ्चालनमा नभएमा,\\n(ङ) प्रतीतपत्र, जमानत तथा अन्य सम्भावित दायित्वहरु फोर्स लोन (Force Loan) को रुपमा कोषमा आधारित\\nकर्जामा परिणत भएको अवस्थामा त्यसरी कर्जामा परिणत भएको मितिले ९० दिनसम्म असुली नभएमा,\\n(च) कर्जा असुल हुन नसकी लिलामी प्रक्रिया शुरु भएको वा असुली प्रत्रिया अन्तर्गत अदालतमा मुद्दा\\nचलिरहेको  अवस्थामा,\\n(छ) कजो सूचना केन्द्रको कालोसूचीमा कायम रहेका ऋणीलाई नयाँ वा थप कर्जा प्रदान गरेको अवस्थामा,\\n(ज) सुरक्षणको बजार मूल्यले कर्जाको सुरक्षण हुन नसक्ने भएमा,\\n X\\n----------Page 3----------\\nयस प्रयोजनको लागी स्रक्षण भन्नाले अचल सम्पत्ति धितो मात्र नभई परियोजना तथा परियोजनाको चल\\nसम्पत्ति  समेतलाई  जनाउने  छ ।\\n(भ्र) खरिद वा डिस्काउन्ट गरेको बिल्सको भक्तानी मिति (due date) ले ९० दिनसम्म असुली नभएमा,\\n(त्र) कुनै व्यक्ति /फर्म / कम्पनीको नाममा रहेको कर्जा अर्को व्यक्ति / फर्म / कम्पनीले उपभोग गरेको अवस्थामा,\\nतर एउटै समूहमा पर्ने फर्म /कम्पनीको हकमा क्ल सीमा कायम गर्न बाधा पुग्ने छैन,\\n(ट) टि.आर.कर्जा (Trust Receipt Loan) भुक्तानी गर्ने प्रयोजनको लागि प्रतीतपत्र खोल्दाका बखत उल्लेख\\nनगरिएको अन्य क्नै नयाँ कर्जा स्वीकृत गरी प्रवाह भएमा ।\\n(ठ) Credit Card कर्जा  भाखा  नाघेको  मितिले  ९०  दिनभित्र  अपलेखन  नभएमा  ।\\n(ड) ऋणीले एउटै मिति वा अवधिको अलग अलग वित्तीय विवरण पेश गरेको अवस्थामा ।\\n(ढ) बैंक तथा वित्तीय संस्थाबाट कर्जा लिई सम्बद्ध व्यक्ति वा संस्थालाई कर्जा/सापट प्रदान गरेमा ।\\nप्रष्टीकरण : यो निर्देशनको खण्ड (ग) को प्रयोजनको लागि “द्रुषयोग” भन्नाले जन प्रयोजनको लागि कर्जा\\nलिएको हो सोही प्रयोजनमा प्रयोग नगरेको, परियोजना सञ्चालनमा नरहेको, सम्बन्धित परियोजना/व्यवसायवाट\\nआर्जित रकम ऋण तिर्नमा नलगाई अन्य कार्यमा प्रयोग गरेको, निरीक्षण तथा सपरिवेक्षणको ऋममा सुपरिवेक्षक,\\nलेखा परीक्षणको कममा लेखापरीक्षकबाट द्रुपयोग भएको प्रमाणित भएमा कर्जा तथा सुविधाको दुरुपयोग गरेको\\nसम्भन्  पछ ।\\n४.  आवधिक कर्जा सम्बन्धी थप व्यवस्था\\n(१)    किस्ताबन्दीमा प्रवाह गरिएका आवधिक कर्जा (Term Loan) को हकमा साँवाको किस्ताले भाखा नाघेमा\\nसम्पर्ण वक्यौता कर्जा रकमलाई नै किस्ता रकमको भाखा नाघेको अवधिको आधारमा वर्गीकरण गर्नु\\nपर्नेछ । \\n(२)  जलविद्युत परियोजना, विद्युत प्रसारण लाइन (Transmission Line) केवलकार निर्माण परियोजना र\\nनवीकरणीय उर्जा परियोजनामा प्रवाह भएका कर्जाको हकमा क्नै किस्ताले ९० दिनभन्दा बढीले भाखा\\nनाघेमा त्यस्तो किस्ताको साँवा रकमलाई खराव वर्गमा वर्गीकरण गरी किस्ताको शतप्रतिशत कर्जा\\nनोक्सानी व्यवस्था कायम गर्नु पनैछ ।\\nप्रष्टीकरण : यस प्रयोजनका लागि “आवधिक कर्जा” भन्नाले एक वर्षभन्दा बढी भक्तानी अवधि कायम\\nगरी प्रवाह गरिएको कर्जा सापटलाई सम्भन् पर्दछ ।\\nसुनचाँदी धितो कर्जा सम्बन्धी थप व्यवस्था\\n५. \\nदेहायका व्यवस्था तथा शर्त पुरा गरी सुनचाँदी धितो राखी कर्जा प्रदान गर्न सकिने छ :-\\n(क)  संस्थाको कर्जा नीति/विनियमावलीमा स्नचाँदी धितो लिई कर्जा प्रदान गर्ने व्यवस्था उल्लेख भएको हुनु\\nपर्ने,\\n(ख)  संस्थाले स्नचाँदीको कर्जा कारोबार गर्न अगावै आवश्यक स्रक्षा व्यवस्था, स्रक्षणको मूल्याङ्कन\\nव्यवस्था, ढ्क्टी बीमा तथा जाँचकी सम्बन्धी व्यवस्था गरेको हुन् पर्ने,\\n(ग)   क्नै व्यक्तिलाई स्नचाँदी धितो कर्जा प्रवाह गर्दा त्यस्तो ऋणीले धितोस्वरुप दिएको सन वा चाँदी जाँच\\nगरी कर्जा स्रक्षित रहेको यकिन गरेर मात्र कर्जा प्रवाह गर्नु पर्नेछ । यसरी कर्जा प्रवाह गर्दा ऋणीले\\nधितो स्वरुपदिएको स्न वा  चाँदी एउटै थैलीमा राखिएको हुनुपर्नेछ । कथंकदाचित् क्नै ऋणीले दिएको\\nएकभन्दा बढी थैलीहरु वा एकभन्दा बढी थैलीहरु राखिएको एउटा थैलीमात्र धितो राखी वा\\nसुनचाँदीको परीक्षण जाँच नगरी सुनचाँदी धितो कर्जा प्रवाह भएमा त्यस्तो कर्जामा शतप्रतिशत कर्जा\\nनोक्सानी  व्यवस्था  गर्नु  पनेछ  ।\\nप्र्\\n'"
      ]
     },
     "execution_count": 19,
     "metadata": {},
     "output_type": "execute_result"
    }
   ],
   "source": [
    "ocr_text"
   ]
  },
  {
   "cell_type": "markdown",
   "metadata": {},
   "source": [
    "### Write the text to a file"
   ]
  },
  {
   "cell_type": "code",
   "execution_count": 20,
   "metadata": {},
   "outputs": [],
   "source": [
    "output_path = \"ocr_output.txt\"\n",
    "with open(output_path, \"w\", encoding=\"utf-8\") as f:\n",
    "    f.write(ocr_text)"
   ]
  },
  {
   "cell_type": "code",
   "execution_count": null,
   "metadata": {},
   "outputs": [],
   "source": []
  }
 ],
 "metadata": {
  "kernelspec": {
   "display_name": "Python 3",
   "language": "python",
   "name": "python3"
  },
  "language_info": {
   "codemirror_mode": {
    "name": "ipython",
    "version": 3
   },
   "file_extension": ".py",
   "mimetype": "text/x-python",
   "name": "python",
   "nbconvert_exporter": "python",
   "pygments_lexer": "ipython3",
   "version": "3.11.2"
  }
 },
 "nbformat": 4,
 "nbformat_minor": 2
}
