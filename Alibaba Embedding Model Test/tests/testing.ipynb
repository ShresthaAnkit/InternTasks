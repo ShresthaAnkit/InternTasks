{
 "cells": [
  {
   "cell_type": "code",
   "execution_count": 1,
   "metadata": {},
   "outputs": [],
   "source": [
    "import time\n",
    "def time_it(func):\n",
    "    def wrapper(*args, **kwargs):\n",
    "        start_time = time.time()  # Record the start time\n",
    "        result = func(*args, **kwargs)  # Call the wrapped function\n",
    "        end_time = time.time()  # Record the end time\n",
    "        elapsed_time = end_time - start_time  # Calculate elapsed time\n",
    "        print(f\"Function '{func.__name__}' took {elapsed_time:.6f} seconds to execute.\")\n",
    "        return result  # Return the result of the wrapped function\n",
    "    return wrapper"
   ]
  },
  {
   "cell_type": "code",
   "execution_count": 2,
   "metadata": {},
   "outputs": [
    {
     "name": "stderr",
     "output_type": "stream",
     "text": [
      "c:\\Users\\Ankit\\AppData\\Local\\Programs\\Python\\Python311\\Lib\\site-packages\\tqdm\\auto.py:21: TqdmWarning: IProgress not found. Please update jupyter and ipywidgets. See https://ipywidgets.readthedocs.io/en/stable/user_install.html\n",
      "  from .autonotebook import tqdm as notebook_tqdm\n"
     ]
    },
    {
     "name": "stdout",
     "output_type": "stream",
     "text": [
      "WARNING:tensorflow:From c:\\Users\\Ankit\\AppData\\Local\\Programs\\Python\\Python311\\Lib\\site-packages\\keras\\src\\losses.py:2976: The name tf.losses.sparse_softmax_cross_entropy is deprecated. Please use tf.compat.v1.losses.sparse_softmax_cross_entropy instead.\n",
      "\n"
     ]
    },
    {
     "name": "stderr",
     "output_type": "stream",
     "text": [
      "Loading checkpoint shards: 100%|██████████| 2/2 [00:00<00:00,  2.14it/s]\n"
     ]
    }
   ],
   "source": [
    "from sentence_transformers import SentenceTransformer\n",
    "\n",
    "model = SentenceTransformer(\"Alibaba-NLP/gte-Qwen2-1.5B-instruct\", trust_remote_code=True)\n",
    "# In case you want to reduce the maximum length:\n",
    "model.max_seq_length = 8192"
   ]
  },
  {
   "cell_type": "code",
   "execution_count": 7,
   "metadata": {},
   "outputs": [],
   "source": [
    "queries = [\n",
    "    \"how much protein should a female eat\",\n",
    "    \"summit define\",\n",
    "    \"benefits of regular exercise\",\n",
    "    \"what is the capital of France\",\n",
    "    \"explain photosynthesis\",\n",
    "    \"how to bake a chocolate cake\",\n",
    "    \"what is machine learning\",\n",
    "    \"symptoms of common cold\",\n",
    "    \"how does a car engine work\",\n",
    "    \"best practices for saving money\",\n",
    "    \"what is the speed of light\",\n",
    "    \"define artificial intelligence\",\n",
    "    \"tips for growing tomatoes\",\n",
    "    \"history of World War II\",\n",
    "    \"who wrote Hamlet\",\n",
    "    \"how to improve mental health\",\n",
    "    \"what is the boiling point of water\",\n",
    "    \"best places to visit in Japan\",\n",
    "    \"how does gravity work\",\n",
    "    \"explain the water cycle\",\n",
    "    \"tips for learning a new language\",\n",
    "    \"what is blockchain technology\",\n",
    "    \"causes of global warming\",\n",
    "    \"how to tie a tie\",\n",
    "    \"what is quantum computing\",\n",
    "    \"importance of recycling\",\n",
    "    \"how to start a small business\",\n",
    "    \"what is the tallest building in the world\",\n",
    "    \"symptoms of dehydration\",\n",
    "    \"how do bees make honey\",\n",
    "]\n",
    "\n",
    "documents = [\n",
    "    \"As a general guideline, the CDC's average requirement of protein for women ages 19 to 70 is 46 grams per day. But, as you can see from this chart, you'll need to increase that if you're expecting or training for a marathon. Check out the chart below to see how much protein you should be eating each day.\",\n",
    "    \"Definition of summit for English Language Learners. : 1  the highest point of a mountain : the top of a mountain. : 2  the highest level. : 3  a meeting or series of meetings between the leaders of two or more governments.\",\n",
    "    \"Regular exercise offers countless health benefits, including improving cardiovascular health, boosting mood, enhancing strength, and promoting better sleep.\",\n",
    "    \"The capital of France is Paris, known for its iconic landmarks such as the Eiffel Tower and the Louvre Museum.\",\n",
    "    \"Photosynthesis is the process by which green plants and some other organisms use sunlight to synthesize foods from carbon dioxide and water. It generally involves the green pigment chlorophyll and generates oxygen as a byproduct.\",\n",
    "    \"To bake a chocolate cake, you will need ingredients such as flour, cocoa powder, eggs, sugar, and butter. Mix the dry and wet ingredients, pour the batter into a pan, and bake it at 350°F (175°C) for 30–35 minutes.\",\n",
    "    \"Machine learning is a subset of artificial intelligence (AI) that involves algorithms and statistical models enabling systems to improve their performance on tasks through experience.\",\n",
    "    \"Common symptoms of a cold include a runny or stuffy nose, sore throat, coughing, sneezing, and mild body aches.\",\n",
    "    \"A car engine works by converting the chemical energy in fuel into mechanical energy through a process of combustion and movement of pistons.\",\n",
    "    \"Saving money can be achieved through practices like creating a budget, cutting unnecessary expenses, and investing in financial instruments.\",\n",
    "    \"The speed of light in a vacuum is approximately 299,792 kilometers per second (186,282 miles per second).\",\n",
    "    \"Artificial intelligence refers to the simulation of human intelligence in machines that are designed to think and learn like humans.\",\n",
    "    \"Tomatoes grow best in warm climates with plenty of sunlight. Ensure the soil is nutrient-rich and well-drained, and water the plants regularly.\",\n",
    "    \"World War II, lasting from 1939 to 1945, was a global conflict involving most of the world's nations. It was marked by significant events like the Holocaust, atomic bombings, and the rise and fall of fascism.\",\n",
    "    \"Hamlet is a tragedy written by William Shakespeare, exploring themes like revenge, morality, and the complexity of the human condition.\",\n",
    "    \"Improving mental health involves practices like regular exercise, maintaining strong social connections, getting adequate sleep, and seeking professional help when needed.\",\n",
    "    \"The boiling point of water is 100 degrees Celsius or 212 degrees Fahrenheit at sea level.\",\n",
    "    \"Japan offers many beautiful places to visit, including Mount Fuji, Kyoto's temples, Tokyo's bustling cityscape, and the serene Arashiyama Bamboo Grove.\",\n",
    "    \"Gravity is a force of attraction that exists between any two masses. It keeps planets in orbit around the sun and causes objects to fall to the ground on Earth.\",\n",
    "    \"The water cycle involves processes such as evaporation, condensation, precipitation, and runoff, recycling Earth's water continuously.\",\n",
    "    \"Learning a new language is easier with daily practice, immersive experiences like watching movies or speaking with native speakers, and using apps like Duolingo or Rosetta Stone.\",\n",
    "    \"Blockchain is a decentralized ledger technology that records transactions across multiple computers, ensuring security and transparency.\",\n",
    "    \"Global warming is caused by the accumulation of greenhouse gases like carbon dioxide and methane in Earth's atmosphere, leading to climate change.\",\n",
    "    \"Tying a tie involves steps like draping it around your neck, crossing the wide end over the narrow end, looping it, and pulling it through the knot.\",\n",
    "    \"Quantum computing uses quantum bits (qubits) to perform computations at speeds far beyond traditional computers for specific types of problems.\",\n",
    "    \"Recycling reduces waste, conserves natural resources, and decreases pollution by repurposing materials like paper, glass, and plastic.\",\n",
    "    \"Starting a small business requires a solid business plan, understanding your market, securing financing, and ensuring compliance with legal requirements.\",\n",
    "    \"The tallest building in the world is the Burj Khalifa in Dubai, standing at 828 meters (2,717 feet).\",\n",
    "    \"Symptoms of dehydration include thirst, dry mouth, fatigue, dizziness, and dark-colored urine.\",\n",
    "    \"Bees make honey by collecting nectar from flowers, breaking it down with enzymes, and storing it in honeycombs where it matures into honey.\",\n",
    "]"
   ]
  },
  {
   "cell_type": "code",
   "execution_count": 4,
   "metadata": {},
   "outputs": [],
   "source": [
    "@time_it\n",
    "def embed_queries(queries):\n",
    "    return model.encode(queries, prompt_name=\"query\")"
   ]
  },
  {
   "cell_type": "code",
   "execution_count": 3,
   "metadata": {},
   "outputs": [],
   "source": [
    "@time_it\n",
    "def embed_documents(documents):\n",
    "    return model.encode(documents)"
   ]
  },
  {
   "cell_type": "code",
   "execution_count": 8,
   "metadata": {},
   "outputs": [
    {
     "name": "stdout",
     "output_type": "stream",
     "text": [
      "Function 'embed_queries' took 9.314332 seconds to execute.\n"
     ]
    }
   ],
   "source": [
    "query_embeddings = embed_queries(queries[0])"
   ]
  },
  {
   "cell_type": "code",
   "execution_count": null,
   "metadata": {},
   "outputs": [],
   "source": [
    "document_embeddings = embed_documents(documents[0])"
   ]
  },
  {
   "cell_type": "code",
   "execution_count": null,
   "metadata": {},
   "outputs": [],
   "source": [
    "scores = (query_embeddings @ document_embeddings.T)\n",
    "print(scores.tolist())"
   ]
  },
  {
   "cell_type": "code",
   "execution_count": 10,
   "metadata": {},
   "outputs": [
    {
     "ename": "AttributeError",
     "evalue": "'SentenceTransformer' object has no attribute 'cache_folder'",
     "output_type": "error",
     "traceback": [
      "\u001b[1;31m---------------------------------------------------------------------------\u001b[0m",
      "\u001b[1;31mAttributeError\u001b[0m                            Traceback (most recent call last)",
      "Cell \u001b[1;32mIn[10], line 1\u001b[0m\n\u001b[1;32m----> 1\u001b[0m model_dir \u001b[38;5;241m=\u001b[39m \u001b[43mmodel\u001b[49m\u001b[38;5;241;43m.\u001b[39;49m\u001b[43mcache_folder\u001b[49m\n",
      "File \u001b[1;32mc:\\Users\\Ankit\\AppData\\Local\\Programs\\Python\\Python311\\Lib\\site-packages\\torch\\nn\\modules\\module.py:1931\u001b[0m, in \u001b[0;36mModule.__getattr__\u001b[1;34m(self, name)\u001b[0m\n\u001b[0;32m   1929\u001b[0m     \u001b[38;5;28;01mif\u001b[39;00m name \u001b[38;5;129;01min\u001b[39;00m modules:\n\u001b[0;32m   1930\u001b[0m         \u001b[38;5;28;01mreturn\u001b[39;00m modules[name]\n\u001b[1;32m-> 1931\u001b[0m \u001b[38;5;28;01mraise\u001b[39;00m \u001b[38;5;167;01mAttributeError\u001b[39;00m(\n\u001b[0;32m   1932\u001b[0m     \u001b[38;5;124mf\u001b[39m\u001b[38;5;124m\"\u001b[39m\u001b[38;5;124m'\u001b[39m\u001b[38;5;132;01m{\u001b[39;00m\u001b[38;5;28mtype\u001b[39m(\u001b[38;5;28mself\u001b[39m)\u001b[38;5;241m.\u001b[39m\u001b[38;5;18m__name__\u001b[39m\u001b[38;5;132;01m}\u001b[39;00m\u001b[38;5;124m'\u001b[39m\u001b[38;5;124m object has no attribute \u001b[39m\u001b[38;5;124m'\u001b[39m\u001b[38;5;132;01m{\u001b[39;00mname\u001b[38;5;132;01m}\u001b[39;00m\u001b[38;5;124m'\u001b[39m\u001b[38;5;124m\"\u001b[39m\n\u001b[0;32m   1933\u001b[0m )\n",
      "\u001b[1;31mAttributeError\u001b[0m: 'SentenceTransformer' object has no attribute 'cache_folder'"
     ]
    }
   ],
   "source": [
    "model_dir = model.cache_folder"
   ]
  },
  {
   "cell_type": "code",
   "execution_count": null,
   "metadata": {},
   "outputs": [],
   "source": []
  }
 ],
 "metadata": {
  "kernelspec": {
   "display_name": "Python 3",
   "language": "python",
   "name": "python3"
  },
  "language_info": {
   "codemirror_mode": {
    "name": "ipython",
    "version": 3
   },
   "file_extension": ".py",
   "mimetype": "text/x-python",
   "name": "python",
   "nbconvert_exporter": "python",
   "pygments_lexer": "ipython3",
   "version": "3.11.2"
  }
 },
 "nbformat": 4,
 "nbformat_minor": 2
}
