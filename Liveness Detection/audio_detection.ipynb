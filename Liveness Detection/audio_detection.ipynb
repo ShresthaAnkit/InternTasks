{
 "cells": [
  {
   "cell_type": "code",
   "execution_count": 1,
   "metadata": {},
   "outputs": [
    {
     "ename": "ModuleNotFoundError",
     "evalue": "No module named 'librosa'",
     "output_type": "error",
     "traceback": [
      "\u001b[1;31m---------------------------------------------------------------------------\u001b[0m",
      "\u001b[1;31mModuleNotFoundError\u001b[0m                       Traceback (most recent call last)",
      "Cell \u001b[1;32mIn[1], line 1\u001b[0m\n\u001b[1;32m----> 1\u001b[0m \u001b[38;5;28;01mimport\u001b[39;00m\u001b[38;5;250m \u001b[39m\u001b[38;5;21;01mlibrosa\u001b[39;00m\n\u001b[0;32m      2\u001b[0m \u001b[38;5;28;01mimport\u001b[39;00m\u001b[38;5;250m \u001b[39m\u001b[38;5;21;01mnumpy\u001b[39;00m\u001b[38;5;250m \u001b[39m\u001b[38;5;28;01mas\u001b[39;00m\u001b[38;5;250m \u001b[39m\u001b[38;5;21;01mnp\u001b[39;00m\n\u001b[0;32m      3\u001b[0m \u001b[38;5;28;01mimport\u001b[39;00m\u001b[38;5;250m \u001b[39m\u001b[38;5;21;01mmatplotlib\u001b[39;00m\u001b[38;5;21;01m.\u001b[39;00m\u001b[38;5;21;01mpyplot\u001b[39;00m\u001b[38;5;250m \u001b[39m\u001b[38;5;28;01mas\u001b[39;00m\u001b[38;5;250m \u001b[39m\u001b[38;5;21;01mplt\u001b[39;00m\n",
      "\u001b[1;31mModuleNotFoundError\u001b[0m: No module named 'librosa'"
     ]
    }
   ],
   "source": [
    "import librosa\n",
    "import numpy as np\n",
    "import matplotlib.pyplot as plt\n",
    "import math\n",
    "import warnings\n",
    "from scipy.signal import find_peaks\n",
    "warnings.filterwarnings(\"ignore\", category=FutureWarning, module=\"librosa\")"
   ]
  },
  {
   "cell_type": "code",
   "execution_count": 48,
   "metadata": {},
   "outputs": [],
   "source": [
    "def detect_peaks(data):\n",
    "    # Compute absolute difference between consecutive frames\n",
    "    movement = np.abs(np.diff(data))\n",
    "    peaks, _ = find_peaks(movement, height=np.mean(movement) + np.std(movement),\n",
    "                      prominence=0.05, width=1, distance=2)\n",
    "    return peaks   \n",
    "def is_speaking_energy(y, sr, threshold=0.01):\n",
    "    energy = np.sum(np.abs(y) ** 2) / len(y)  # Compute energy\n",
    "    print(energy)\n",
    "    return energy > threshold  # Check if above threshold\n",
    "def detect_speech_segments(audio_path, sr=16000, frame_length=0.05, fps=30, energy_threshold=0.01):\n",
    "    # Load audio\n",
    "    y, sr = librosa.load(audio_path, sr=sr, mono=True)\n",
    "\n",
    "    # Calculate frame size and hop length\n",
    "    frame_size = int(sr * frame_length)  # 50ms window\n",
    "    hop_length = int(sr / fps)  # Hop length to match video FPS (e.g., 30fps)\n",
    "\n",
    "    # Compute short-time energy\n",
    "    energy = np.array([\n",
    "        np.sum(np.square(y[i:i+frame_size]))  # Energy per frame\n",
    "        for i in range(0, len(y) - frame_size, hop_length)\n",
    "    ])\n",
    "\n",
    "    # Determine speech frames where energy is above threshold\n",
    "    threshold = np.mean(energy) + np.std(energy)  # Dynamic threshold\n",
    "    print(threshold)\n",
    "    speech_segments = energy > threshold\n",
    "\n",
    "    return np.sum(speech_segments)  # Count frames where speech is detected"
   ]
  },
  {
   "cell_type": "code",
   "execution_count": 55,
   "metadata": {},
   "outputs": [
    {
     "name": "stderr",
     "output_type": "stream",
     "text": [
      "C:\\Users\\aanki\\AppData\\Local\\Temp\\ipykernel_10860\\3557084417.py:4: UserWarning: PySoundFile failed. Trying audioread instead.\n",
      "  y, sr = librosa.load(video_path, sr=16000, mono=True)\n"
     ]
    }
   ],
   "source": [
    "video_path = r'D:\\Programming\\Python\\AI\\Basics\\AMNIL Tech\\Liveness Detection\\lip_movement\\video\\real\\real3.mp4'\n",
    "\n",
    "# Load audio using librosa\n",
    "y, sr = librosa.load(video_path, sr=16000, mono=True)        \n",
    "\n",
    "# Calculate hop_length and frame_length to match video frames\n",
    "hop_length = int(sr / 30)  # Hop length to match video frame rate\n",
    "frame_length = int(sr * 0.05)  # 50ms window (can be adjusted) "
   ]
  },
  {
   "cell_type": "code",
   "execution_count": 56,
   "metadata": {},
   "outputs": [
    {
     "name": "stderr",
     "output_type": "stream",
     "text": [
      "C:\\Users\\aanki\\AppData\\Local\\Temp\\ipykernel_10860\\4250119765.py:13: UserWarning: PySoundFile failed. Trying audioread instead.\n",
      "  y, sr = librosa.load(audio_path, sr=sr, mono=True)\n"
     ]
    },
    {
     "name": "stdout",
     "output_type": "stream",
     "text": [
      "1.2454695\n"
     ]
    },
    {
     "data": {
      "text/plain": [
       "13"
      ]
     },
     "execution_count": 56,
     "metadata": {},
     "output_type": "execute_result"
    }
   ],
   "source": [
    "detect_speech_segments(video_path)"
   ]
  },
  {
   "cell_type": "code",
   "execution_count": 57,
   "metadata": {},
   "outputs": [
    {
     "name": "stdout",
     "output_type": "stream",
     "text": [
      "0.0005580004544909554\n",
      "Speaking: False\n",
      "Audio Changes:  5\n"
     ]
    },
    {
     "data": {
      "image/png": "[encoded data removed]",
      "text/plain": [
       "<Figure size 640x480 with 1 Axes>"
      ]
     },
     "metadata": {},
     "output_type": "display_data"
    }
   ],
   "source": [
    "# Calculate short-time energy\n",
    "audio_energy = np.array([\n",
    "    sum(abs(y[i:i+frame_length])**2)\n",
    "    for i in range(0, len(y), hop_length)\n",
    "])\n",
    "audio_changes = len(detect_peaks(audio_energy))\n",
    "print(\"Speaking:\", is_speaking_energy(y, sr))\n",
    "print('Audio Changes: ', audio_changes)\n",
    "plt.plot(audio_energy)\n",
    "plt.show()"
   ]
  },
  {
   "cell_type": "code",
   "execution_count": null,
   "metadata": {},
   "outputs": [],
   "source": []
  },
  {
   "cell_type": "code",
   "execution_count": null,
   "metadata": {},
   "outputs": [],
   "source": []
  }
 ],
 "metadata": {
  "kernelspec": {
   "display_name": "Python 3",
   "language": "python",
   "name": "python3"
  },
  "language_info": {
   "codemirror_mode": {
    "name": "ipython",
    "version": 3
   },
   "file_extension": ".py",
   "mimetype": "text/x-python",
   "name": "python",
   "nbconvert_exporter": "python",
   "pygments_lexer": "ipython3",
   "version": "3.11.2"
  }
 },
 "nbformat": 4,
 "nbformat_minor": 2
}
