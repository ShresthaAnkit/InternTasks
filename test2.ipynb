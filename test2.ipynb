{
 "cells": [
  {
   "cell_type": "code",
   "execution_count": 10,
   "metadata": {},
   "outputs": [],
   "source": [
    "import pandas as pd\n",
    "import numpy as np\n",
    "import seaborn as sns\n",
    "import math\n",
    "\n",
    "import matplotlib.pyplot as plt"
   ]
  },
  {
   "cell_type": "code",
   "execution_count": 8,
   "metadata": {},
   "outputs": [],
   "source": [
    "# Function to calculate the probabilities that total 1\n",
    "def softmax(scores):\n",
    "    exp_scores = np.exp(scores)\n",
    "    probabilities = exp_scores / np.sum(exp_scores)\n",
    "    return probabilities"
   ]
  },
  {
   "cell_type": "code",
   "execution_count": 77,
   "metadata": {},
   "outputs": [
    {
     "data": {
      "text/plain": [
       "array([0.09003057, 0.24472847, 0.66524096])"
      ]
     },
     "execution_count": 77,
     "metadata": {},
     "output_type": "execute_result"
    }
   ],
   "source": [
    "softmax([1,2,3])"
   ]
  },
  {
   "cell_type": "code",
   "execution_count": 76,
   "metadata": {},
   "outputs": [
    {
     "data": {
      "text/plain": [
       "array([0.33333333, 0.33333333, 0.33333333])"
      ]
     },
     "execution_count": 76,
     "metadata": {},
     "output_type": "execute_result"
    }
   ],
   "source": [
    "softmax([1,1,1])"
   ]
  },
  {
   "cell_type": "code",
   "execution_count": 73,
   "metadata": {},
   "outputs": [],
   "source": [
    "# Function to calculate the probabilities and Mean Squared Error\n",
    "def single_neuron_model(features,labels,weights,bias):\n",
    "    weighted_sums = np.multiply(features,weights)\n",
    "    biased_sums = []\n",
    "    for rows in weighted_sums:\n",
    "        biased_sums.append(np.sum(rows) + bias)\n",
    "    biased_sums = np.array(biased_sums)\n",
    "    probabilities = 1 / (1+np.exp(-biased_sums))\n",
    "    mse =np.sum(np.square(labels-probabilities)) / len(features)\n",
    "    \n",
    "    return probabilities.round(4),mse.round(4)"
   ]
  },
  {
   "cell_type": "code",
   "execution_count": 74,
   "metadata": {},
   "outputs": [
    {
     "data": {
      "text/plain": [
       "(array([0.4626, 0.4134, 0.6682]), 0.3349)"
      ]
     },
     "execution_count": 74,
     "metadata": {},
     "output_type": "execute_result"
    }
   ],
   "source": [
    "features = [[0.5,1.0],[-1.5,-2],[2,1.5]]\n",
    "labels = [0,1,0]\n",
    "weights = [0.7,-0.4]\n",
    "bias=-0.1\n",
    "single_neuron_model(features,labels,weights,bias)"
   ]
  },
  {
   "cell_type": "code",
   "execution_count": 75,
   "metadata": {},
   "outputs": [
    {
     "data": {
      "text/plain": [
       "(array([0.525 , 0.5987, 0.7858]), 0.21)"
      ]
     },
     "execution_count": 75,
     "metadata": {},
     "output_type": "execute_result"
    }
   ],
   "source": [
    "new_features=[[1,2],[2,3],[3,1]]\n",
    "new_labels = [1,0,1]\n",
    "new_weights = [0.5,-0.2]\n",
    "new_bias = 0\n",
    "single_neuron_model(new_features,new_labels,new_weights,new_bias)"
   ]
  },
  {
   "cell_type": "code",
   "execution_count": 112,
   "metadata": {},
   "outputs": [],
   "source": [
    "def precision(y_true,y_pred):\n",
    "    tp = 0\n",
    "    fp = 0\n",
    "    for true,pred in zip(y_true,y_pred):\n",
    "        if true ==1 and pred ==1:\n",
    "            tp+=1\n",
    "        elif true==0 and pred==1:\n",
    "            fp+=1   \n",
    "    return tp / (tp+fp)"
   ]
  },
  {
   "cell_type": "code",
   "execution_count": 113,
   "metadata": {},
   "outputs": [
    {
     "name": "stdout",
     "output_type": "stream",
     "text": [
      "1.0\n"
     ]
    }
   ],
   "source": [
    "y_true = np.array([1,0,1,1,0,1])\n",
    "y_pred=np.array([1,0,1,0,0,1])\n",
    "result = precision(y_true,y_pred)\n",
    "print(result)"
   ]
  },
  {
   "cell_type": "code",
   "execution_count": 114,
   "metadata": {},
   "outputs": [
    {
     "name": "stdout",
     "output_type": "stream",
     "text": [
      "0.5\n"
     ]
    }
   ],
   "source": [
    "y_true_new = np.array([1,0,1,1,0,0])\n",
    "y_pred_new = np.array([1,0,0,0,0,1])\n",
    "print(precision(y_true_new,y_pred_new))"
   ]
  }
 ],
 "metadata": {
  "kernelspec": {
   "display_name": "Python 3",
   "language": "python",
   "name": "python3"
  },
  "language_info": {
   "codemirror_mode": {
    "name": "ipython",
    "version": 3
   },
   "file_extension": ".py",
   "mimetype": "text/x-python",
   "name": "python",
   "nbconvert_exporter": "python",
   "pygments_lexer": "ipython3",
   "version": "3.11.2"
  }
 },
 "nbformat": 4,
 "nbformat_minor": 2
}
