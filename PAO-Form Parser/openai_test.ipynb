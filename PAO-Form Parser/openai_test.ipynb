{
 "cells": [
  {
   "cell_type": "code",
   "execution_count": 23,
   "metadata": {},
   "outputs": [],
   "source": [
    "from dotenv import load_dotenv\n",
    "import os\n",
    "load_dotenv()\n",
    "OPENAI_API_KEY = os.getenv('OPENAI_API_KEY')\n",
    "import openai\n",
    "client = openai.OpenAI()\n",
    "openai.api_key = OPENAI_API_KEY"
   ]
  },
  {
   "cell_type": "code",
   "execution_count": 18,
   "metadata": {},
   "outputs": [],
   "source": [
    "from pydantic import BaseModel, Field\n",
    "from typing import Optional, List\n",
    "\n",
    "class IdentificationDetails(BaseModel):\n",
    "    legal_id: Optional[str] = Field(None, description=\"Type of Legal ID (e.g., National Identity Card)\")\n",
    "    number_type: str = Field(..., description=\"Number or type of the ID\")\n",
    "    issuing_office: Optional[str] = Field(None, description=\"Issuing office of the ID\")\n",
    "    date_of_issue: str = Field(..., description=\"Date of issue (in YYYY-MM-DD format)\")\n",
    "    expiry_date: Optional[str] = Field(None, description=\"Expiry date (in YYYY-MM-DD format)\")\n",
    "    primary_secondary: Optional[str] = Field(None, description=\"Primary/Secondary designation\")\n",
    "\n",
    "class RelatedParty(BaseModel):\n",
    "    relation: Optional[str] = Field(None, description=\"Relation (e.g., Father, Mother)\")\n",
    "    full_name: str = Field(..., description=\"Full name of the related party\")\n",
    "    id_type: Optional[str] = Field(None, description=\"Type of ID for the related party\")\n",
    "    id_no: Optional[str] = Field(None, description=\"ID number of the related party\")\n",
    "    have_account: Optional[str] = Field(None, description=\"Whether the related party has an account (Yes/No)\")\n",
    "    customer_no: Optional[str] = Field(None, description=\"Customer number if applicable\")\n",
    "\n",
    "class PersonalAccountForm(BaseModel):\n",
    "    date: Optional[str] = Field(None, description=\"Form submission date (in YYYY-MM-DD format)\")\n",
    "    branch: Optional[str] = Field(None, description=\"Branch name\")\n",
    "    account_type: str = Field(..., description=\"Type of account (e.g., Saving, Current)\")\n",
    "    product_name: Optional[str] = Field(None, description=\"Name of the product, if applicable\")\n",
    "    currency: str = Field(..., description=\"Selected currency (e.g., NPR, USD)\")\n",
    "    salutation: Optional[str] = Field(None, description=\"Salutation (e.g., Mr., Ms.)\")\n",
    "    full_name: str = Field(..., description=\"Full name of the account holder\")\n",
    "    date_of_birth_bs: str = Field(..., description=\"Date of birth in B.S. format\")\n",
    "    date_of_birth_ad: str = Field(..., description=\"Date of birth in A.D. format\")\n",
    "    gender: str = Field(..., description=\"Gender (e.g., Male, Female, Others)\")\n",
    "    marital_status: str = Field(..., description=\"Marital status (e.g., Married, Unmarried)\")\n",
    "    nationality: str = Field(..., description=\"Nationality of the account holder\")\n",
    "    resident: Optional[str] = Field(None, description=\"Resident status, if applicable\")\n",
    "    education: Optional[str] = Field(None, description=\"Education level (e.g., Literate, Illiterate)\")\n",
    "    existing_account: str = Field(..., description=\"Whether the account holder has an existing account (Yes/No)\")\n",
    "    account_no: Optional[str] = Field(None, description=\"Existing account number, if applicable\")\n",
    "    identification_details: List[IdentificationDetails] = Field(..., description=\"List of identification details\")\n",
    "    related_parties: Optional[List[RelatedParty]] = Field(None, description=\"List of related parties\")\n"
   ]
  },
  {
   "cell_type": "code",
   "execution_count": 34,
   "metadata": {},
   "outputs": [],
   "source": [
    "system_prompt = f\"\"\"\n",
    "    You are an OCR-like data extraction tool that extracts personal information from the image provided of a form for opening a bank account.\n",
    "   \n",
    "    1. Please extract the data in this image, grouping data according to theme/sub groups, and then output into JSON.\n",
    "\n",
    "    2. Please keep the keys and values of the JSON in the original language. \n",
    "\n",
    "    3. The type of data you might encounter in the image includes but is not limited to: names, dates, checkboxes, nepali language    \n",
    "    \n",
    "    4. If there are tables in the image, capture all of the rows and columns in the JSON object. \n",
    "    Even if a column is blank, include it as a key in the JSON object with a null value.\n",
    "    \n",
    "    5. Don't interpolate or make up data.\n",
    "\n",
    "    6. Please maintain the table structure of the charges, i.e. capture all of the rows and columns in the JSON object.\n",
    "\n",
    "    7. Return null if the data is not available\n",
    "\n",
    "    8. If no checkboxes are selected, just return null.\n",
    "\n",
    "    9. Triple check any numbers provided in the attatched image.\n",
    "\n",
    "    10. Properly check which row the data belongs to.\n",
    "\n",
    "    \"\"\""
   ]
  },
  {
   "cell_type": "code",
   "execution_count": 35,
   "metadata": {},
   "outputs": [],
   "source": [
    "import base64\n",
    "\n",
    "# Function to encode the image\n",
    "def encode_image(image_path):\n",
    "    with open(image_path, \"rb\") as image_file:\n",
    "        return base64.b64encode(image_file.read()).decode(\"utf-8\")\n",
    "\n",
    "\n",
    "# Path to your image\n",
    "image_path = \"D:\\Programming\\AI\\Basics\\AMNIL Tech\\OCR\\ocrimage.jpg\"\n",
    "\n",
    "# Getting the base64 string\n",
    "base64_image = encode_image(image_path)\n",
    "\n",
    "response = client.beta.chat.completions.parse(\n",
    "    model=\"gpt-4o-mini\",\n",
    "    messages=[\n",
    "        {\n",
    "            \"role\":\"system\",\n",
    "            \"content\":system_prompt\n",
    "        },\n",
    "        {\n",
    "            \"role\": \"user\",\n",
    "            \"content\": [\n",
    "                {\n",
    "                    \"type\": \"text\",\n",
    "                    \"text\": \"Extract the information in this bank account opening form and output into JSON.\",\n",
    "                },\n",
    "                {\n",
    "                    \"type\": \"image_url\",\n",
    "                    \"image_url\": {\"url\": f\"data:image/jpeg;base64,{base64_image}\"},\n",
    "                },\n",
    "            ],\n",
    "        }\n",
    "    ],\n",
    "    response_format=PersonalAccountForm,\n",
    ")"
   ]
  },
  {
   "cell_type": "code",
   "execution_count": 37,
   "metadata": {},
   "outputs": [
    {
     "data": {
      "text/plain": [
       "'{\\n  \"date\": \"2025-02-17\",\\n  \"branch\": null,\\n  \"account_type\": \"Saving Account\",\\n  \"product_name\": null,\\n  \"currency\": \"NPR\",\\n  \"salutation\": \"Rakhi\",\\n  \"full_name\": \"Mahato\",\\n  \"date_of_birth_bs\": \"2057-02-05\",\\n  \"date_of_birth_ad\": \"2000-02-17\",\\n  \"gender\": \"Female\",\\n  \"marital_status\": \"Unmarried\",\\n  \"nationality\": \"Nepalese\",\\n  \"resident\": \"Resident\",\\n  \"education\": \"Literate\",\\n  \"existing_account\": \"No\",\\n  \"account_no\": null,\\n  \"identification_details\": [\\n    {\\n      \"legal_id\": \"National identity card\",\\n      \"number_type\": \"17-02-75-0027\",\\n      \"issuing_office\": \"2075102116\",\\n      \"date_of_issue\": \"2075-02-17\",\\n      \"expiry_date\": null,\\n      \"primary_secondary\": \"Primary\"\\n    }\\n  ],\\n  \"related_parties\": [\\n    {\\n      \"relation\": \"Spouse\",\\n      \"full_name\": \"Sita Devi Mahato\",\\n      \"id_type\": null,\\n      \"id_no\": null,\\n      \"have_account\": \"No\",\\n      \"customer_no\": null\\n    },\\n    {\\n      \"relation\": \"Mother\",\\n      \"full_name\": \"Bhuwaneshwor Prasad Mahato\",\\n      \"id_type\": null,\\n      \"id_no\": null,\\n      \"have_account\": \"No\",\\n      \"customer_no\": null\\n    },\\n    {\\n      \"relation\": \"Grandfather\",\\n      \"full_name\": \"Saty Narayan Mahato\",\\n      \"id_type\": null,\\n      \"id_no\": null,\\n      \"have_account\": \"No\",\\n      \"customer_no\": null\\n    },\\n    {\\n      \"relation\": \"Son\",\\n      \"full_name\": \"\",\\n      \"id_type\": null,\\n      \"id_no\": null,\\n      \"have_account\": \"No\",\\n      \"customer_no\": null\\n    },\\n    {\\n      \"relation\": \"Daughter\",\\n      \"full_name\": \"\",\\n      \"id_type\": null,\\n      \"id_no\": null,\\n      \"have_account\": \"No\",\\n      \"customer_no\": null\\n    },\\n    {\\n      \"relation\": \"Daughter-in-law\",\\n      \"full_name\": \"\",\\n      \"id_type\": null,\\n      \"id_no\": null,\\n      \"have_account\": \"No\",\\n      \"customer_no\": null\\n    },\\n    {\\n      \"relation\": \"Father-in-law\",\\n      \"full_name\": \"\",\\n      \"id_type\": null,\\n      \"id_no\": null,\\n      \"have_account\": \"No\",\\n      \"customer_no\": null\\n    },\\n    {\\n      \"relation\": \"Legal Custodian\",\\n      \"full_name\": \"\",\\n      \"id_type\": null,\\n      \"id_no\": null,\\n      \"have_account\": \"No\",\\n      \"customer_no\": null\\n    },\\n    {\\n      \"relation\": \"Not Related Person\",\\n      \"full_name\": \"\",\\n      \"id_type\": null,\\n      \"id_no\": null,\\n      \"have_account\": \"No\",\\n      \"customer_no\": null\\n    }\\n  ]\\n}'"
      ]
     },
     "execution_count": 37,
     "metadata": {},
     "output_type": "execute_result"
    }
   ],
   "source": [
    "response.choices[0].message.content"
   ]
  },
  {
   "cell_type": "code",
   "execution_count": 46,
   "metadata": {},
   "outputs": [],
   "source": [
    "content = response.choices[0].message.content"
   ]
  },
  {
   "cell_type": "code",
   "execution_count": 39,
   "metadata": {},
   "outputs": [],
   "source": [
    "import json\n",
    "parsed_response = json.loads(response.choices[0].message.content)\n",
    "\n",
    "\n",
    "pretty_json = json.dumps(parsed_response, indent=4)"
   ]
  },
  {
   "cell_type": "code",
   "execution_count": 50,
   "metadata": {},
   "outputs": [
    {
     "data": {
      "text/plain": [
       "{'date': '2025-02-17',\n",
       " 'branch': None,\n",
       " 'account_type': 'Saving Account',\n",
       " 'product_name': None,\n",
       " 'currency': 'NPR',\n",
       " 'salutation': 'Rakhi',\n",
       " 'full_name': 'Mahato',\n",
       " 'date_of_birth_bs': '2057-02-05',\n",
       " 'date_of_birth_ad': '2000-02-17',\n",
       " 'gender': 'Female',\n",
       " 'marital_status': 'Unmarried',\n",
       " 'nationality': 'Nepalese',\n",
       " 'resident': 'Resident',\n",
       " 'education': 'Literate',\n",
       " 'existing_account': 'No',\n",
       " 'account_no': None,\n",
       " 'identification_details': [{'legal_id': 'National identity card',\n",
       "   'number_type': '17-02-75-0027',\n",
       "   'issuing_office': '2075102116',\n",
       "   'date_of_issue': '2075-02-17',\n",
       "   'expiry_date': None,\n",
       "   'primary_secondary': 'Primary'}],\n",
       " 'related_parties': [{'relation': 'Spouse',\n",
       "   'full_name': 'Sita Devi Mahato',\n",
       "   'id_type': None,\n",
       "   'id_no': None,\n",
       "   'have_account': 'No',\n",
       "   'customer_no': None},\n",
       "  {'relation': 'Mother',\n",
       "   'full_name': 'Bhuwaneshwor Prasad Mahato',\n",
       "   'id_type': None,\n",
       "   'id_no': None,\n",
       "   'have_account': 'No',\n",
       "   'customer_no': None},\n",
       "  {'relation': 'Grandfather',\n",
       "   'full_name': 'Saty Narayan Mahato',\n",
       "   'id_type': None,\n",
       "   'id_no': None,\n",
       "   'have_account': 'No',\n",
       "   'customer_no': None},\n",
       "  {'relation': 'Son',\n",
       "   'full_name': '',\n",
       "   'id_type': None,\n",
       "   'id_no': None,\n",
       "   'have_account': 'No',\n",
       "   'customer_no': None},\n",
       "  {'relation': 'Daughter',\n",
       "   'full_name': '',\n",
       "   'id_type': None,\n",
       "   'id_no': None,\n",
       "   'have_account': 'No',\n",
       "   'customer_no': None},\n",
       "  {'relation': 'Daughter-in-law',\n",
       "   'full_name': '',\n",
       "   'id_type': None,\n",
       "   'id_no': None,\n",
       "   'have_account': 'No',\n",
       "   'customer_no': None},\n",
       "  {'relation': 'Father-in-law',\n",
       "   'full_name': '',\n",
       "   'id_type': None,\n",
       "   'id_no': None,\n",
       "   'have_account': 'No',\n",
       "   'customer_no': None},\n",
       "  {'relation': 'Legal Custodian',\n",
       "   'full_name': '',\n",
       "   'id_type': None,\n",
       "   'id_no': None,\n",
       "   'have_account': 'No',\n",
       "   'customer_no': None},\n",
       "  {'relation': 'Not Related Person',\n",
       "   'full_name': '',\n",
       "   'id_type': None,\n",
       "   'id_no': None,\n",
       "   'have_account': 'No',\n",
       "   'customer_no': None}]}"
      ]
     },
     "execution_count": 50,
     "metadata": {},
     "output_type": "execute_result"
    }
   ],
   "source": [
    "json.loads(content)"
   ]
  },
  {
   "cell_type": "code",
   "execution_count": null,
   "metadata": {},
   "outputs": [],
   "source": []
  }
 ],
 "metadata": {
  "kernelspec": {
   "display_name": "Python 3",
   "language": "python",
   "name": "python3"
  },
  "language_info": {
   "codemirror_mode": {
    "name": "ipython",
    "version": 3
   },
   "file_extension": ".py",
   "mimetype": "text/x-python",
   "name": "python",
   "nbconvert_exporter": "python",
   "pygments_lexer": "ipython3",
   "version": "3.11.2"
  }
 },
 "nbformat": 4,
 "nbformat_minor": 2
}
