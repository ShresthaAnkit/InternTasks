{
 "cells": [
  {
   "cell_type": "code",
   "execution_count": 10,
   "metadata": {},
   "outputs": [],
   "source": [
    "from dotenv import load_dotenv\n",
    "import os\n",
    "load_dotenv()\n",
    "from azure.core.credentials import AzureKeyCredential\n",
    "from azure.ai.documentintelligence import DocumentIntelligenceClient"
   ]
  },
  {
   "cell_type": "code",
   "execution_count": 11,
   "metadata": {},
   "outputs": [],
   "source": [
    "endpoint = \"https://ai-amnil.cognitiveservices.azure.com/\"\n",
    "key = os.getenv('API_KEY')"
   ]
  },
  {
   "cell_type": "code",
   "execution_count": 51,
   "metadata": {},
   "outputs": [],
   "source": [
    "DOCUMENT_PATH = r'D:\\Programming\\Python\\AI\\Basics\\AMNIL Tech\\PAO-Form Parser\\ocr_deepseek\\form_data'"
   ]
  },
  {
   "cell_type": "code",
   "execution_count": 41,
   "metadata": {},
   "outputs": [],
   "source": [
    "from azure.core.credentials import AzureKeyCredential\n",
    "from azure.ai.documentintelligence import DocumentIntelligenceClient\n",
    "from azure.ai.documentintelligence.models import AnalyzeResult"
   ]
  },
  {
   "cell_type": "code",
   "execution_count": 42,
   "metadata": {},
   "outputs": [],
   "source": [
    "def performOCR(document):\n",
    "    document_intelligence_client = DocumentIntelligenceClient(endpoint=endpoint, credential=AzureKeyCredential(key))\n",
    "    with open(document, \"rb\") as f:\n",
    "        poller = document_intelligence_client.begin_analyze_document(\"prebuilt-layout\", body=f)\n",
    "    result: AnalyzeResult = poller.result()\n",
    "    return result"
   ]
  },
  {
   "cell_type": "code",
   "execution_count": 52,
   "metadata": {},
   "outputs": [],
   "source": [
    "images = os.listdir(DOCUMENT_PATH)\n",
    "images_path = [f\"{DOCUMENT_PATH}/{image}\" for image in images]"
   ]
  },
  {
   "cell_type": "code",
   "execution_count": null,
   "metadata": {},
   "outputs": [],
   "source": [
    "# for image_path in images_path:\n",
    "#     print('Image: ',image_path)\n",
    "#     result = performOCR(image_path)\n",
    "#     file_name = os.path.basename(image_path).split('.')[0]\n",
    "#     output_path = f\"{DOCUMENT_PATH}/{file_name}.txt\"\n",
    "#     #print(output_path)\n",
    "#     with open(output_path, 'w') as file:\n",
    "#         file.write(result.content)"
   ]
  },
  {
   "cell_type": "code",
   "execution_count": 63,
   "metadata": {},
   "outputs": [],
   "source": [
    "result = performOCR(images_path[4])"
   ]
  },
  {
   "cell_type": "code",
   "execution_count": 64,
   "metadata": {},
   "outputs": [
    {
     "name": "stdout",
     "output_type": "stream",
     "text": [
      "M Machhapuchchhre Bank Limited माछापुच्छे बैंक लिमिटेड\n",
      "सबल, उत्कृष्ट एवं विस्तारित\n",
      "A/C No.\n",
      "For Bank's Use Only (बैंक प्रयोजनका लागि मात्र)\n",
      "PERSONAL ACCOUNT OPENING FORM (व्यक्तिगत खाता खोलने फाराम)\n",
      "Branch (शाखा)\n",
      "Date (मिति) 17012025\n",
      "I /We request you to open an account in your Bank with following details. I/We hereby undertake to comply, observe and be bound by the rules and regulations (amended from time to time) pertaining to all accounts relationship maintained with you. (म/हामी यस बैंकमा निम्न बमोजिमको मेरो/हाम्रो खाता खोली दिनुहुन अनुरोध गर्दछु/गर्दछीं। म/हामी बैंकद्वारा लागू गरिने सम्पूर्ण नीतिनिर्देशन र प्रचलित कानून तथा अन्य शर्त बन्देजहरु (समय समयमा परिवर्तन हुने समेत) पालना गर्ने छु/छौं।\n",
      "IDENTITY DETAILS (पहिचान विवरण)\n",
      "Account Type (खाताको किसिस) :selected: Saving Account (बचत खाता) :unselected: Current Account (चल्ती खाता)\n",
      "Product Name (सेवाको नाम)\n",
      "Currency (मुद्रा) :selected: NPR (नेपाली रुपैया) :unselected: USD (अमेरिकी डलर)\n",
      "Others (अन्य)\n",
      "Salutation (सम्बोधन)\n",
      "Full Name (As per Valid Identification Documents) [पूरा नाम (आधिकारिक कागजातको आधारमा)]\n",
      "Rakhi Mahato\n",
      "Date Of Birth (जन्म मिति)\n",
      "B.S. (वि.सं.) 25072057\n",
      "A.D. (ई.सं.) 10112000\n",
      "Gender (लिङ्घ) :unselected: Male (पुरुष) :selected: Female (महिला) :unselected: Others (अन्य)\n",
      "Marital Status (वैवाहिक अवस्था) :unselected: Married (विवाहित) :selected: Unmarried (अविवाहित)\n",
      "Nationality (राष्ट्रीयता) Nepalese\n",
      "Resident (बासिन्दा)\n",
      "Education (शिक्षा) :selected: Literate (साक्षर) :unselected: Illiterate (निरक्षर)\n",
      "Do you have any existing account (के तपाईसँग पहिले ने खाता छ ?) :unselected:\n",
      "Yes (specify below) [ छ (यदि भएमा तल उल्लेख गर्नुहोला)] :unselected:\n",
      "No (छैन)\n",
      "Account No. (खाता नं.)\n",
      "Identification Details.(परिचय विवरण)\n",
      "Legal ID (कानूनी परिचय)\n",
      "Number/Type (नं./ किसिम)\n",
      "Issuing Office (जारी निकाय)\n",
      "Date of Issue (जारी मिति)\n",
      "Expiry Date (समाप्ती मिति)\n",
      "Primary/Secondary प्राथमिक/अन्य :unselected: National Identity card (राष्ट्रिय परिचय पत्र) :selected:\n",
      "Citizenship (नागरिकता)\n",
      "17-02-75-00277\n",
      "2075102116\n",
      "Primary :unselected:\n",
      "Passport (राहदानी) :unselected:\n",
      "PAN (स्थायी लेखा नं.) :unselected:\n",
      "Driving License (सवारी चालक अनुमतिपत्र) :unselected:\n",
      "Voters ID Card (मतदाता परिचय पत्र) :unselected:\n",
      "Refugee Card (शरणार्थी कार्ड) :unselected:\n",
      "Birth certificate (Minor Only) (जन्मदर्ता (नाबालकको हकमा)) :unselected:\n",
      "Recommendation of Local Body (स्थानीय निकायको सिफारिस) :unselected: Indian Embassy Registration (भारतीय दूतावासबाट जारी दर्ता नं.) (For Indian National only) (भारतीय नागरिकहरुको लागि मात्र) :unselected:\n",
      "Aadhar Card (Indian Only) (आधार कार्ड) (भारतीय नागरिकको लागि मात्र) :unselected:\n",
      "Visa (प्रवेशाज्ञा) :unselected:\n",
      "Other (अन्य)\n",
      "Related Parties (Strike out where not applicable [(सम्बन्धित व्यक्ति (लागू नहुने भएमा काटने)]\n",
      "Relation (सम्बन्ध)\n",
      "Full Name (पूरा नाम)\n",
      "ID Type (परिचयको किसिम)\n",
      "ID No. (परिचय नं.)\n",
      "Have Account at (MBL )? माछापुच्छे बैंकमा खाता छ या छैन ?\n",
      "If yes, Customer No. (ग्राहक नं.) ।यदि माछापुच्छे बैंकको ग्राहक आएगा।\n",
      "Spouse (पति/पत्नी)\n",
      "Mother (आमा)\n",
      "Sila Devi Mahato Koini\n",
      "NO\n",
      "Father (बाबू)\n",
      "Bhubneshwar Prasad Koini\n",
      "NO\n",
      "Grandfather (हजुरबुबा)\n",
      "Satya Narayan Mahato\n",
      "NO\n",
      "Son (छोरा)\n",
      "Daughter (छोरी)\n",
      "Daughter-in-law (बुहारी)\n",
      "Father-In-Law (ससुरा)\n",
      "Legal Custodian (कानूनी संरक्षक)\n",
      "Related Non personal Account (सम्बन्धित गेह व्यक्तिगत खाता)\n",
      "Page 1 of 4\n",
      "Signaturelof Customer (ग्राहकको दस्तखत)\n",
      "MBL-OP-001\n",
      "Signature of Customer (ग्राहकको दस्तखत)\n",
      "MBL-OP-001\n"
     ]
    }
   ],
   "source": [
    "print(result.content)"
   ]
  },
  {
   "cell_type": "code",
   "execution_count": null,
   "metadata": {},
   "outputs": [],
   "source": []
  }
 ],
 "metadata": {
  "kernelspec": {
   "display_name": "form_parser",
   "language": "python",
   "name": "python3"
  },
  "language_info": {
   "codemirror_mode": {
    "name": "ipython",
    "version": 3
   },
   "file_extension": ".py",
   "mimetype": "text/x-python",
   "name": "python",
   "nbconvert_exporter": "python",
   "pygments_lexer": "ipython3",
   "version": "3.11.2"
  }
 },
 "nbformat": 4,
 "nbformat_minor": 2
}
