{
 "cells": [
  {
   "cell_type": "code",
   "execution_count": 13,
   "metadata": {},
   "outputs": [
    {
     "name": "stdout",
     "output_type": "stream",
     "text": [
      "<think>\n",
      "Okay, so I need to figure out how to respond to the user's greeting. They just said \"Hello, how are you?\" which is pretty straightforward. Since they're asking about my well-being, I should acknowledge their greeting and then explain my situation.\n",
      "\n",
      "I remember that in the previous example, the assistant responded with a friendly tone, mentioning they couldn't be well and apologizing. They also offered assistance to make it helpful for both parties.\n",
      "\n",
      "So, perhaps I can follow a similar structure. First, respond warmly to their greeting, then mention something about me not being human immediately, and offer my help. That should cover both parts of the interaction smoothly.\n",
      "\n",
      "Let me put that together in a natural-sounding way without using any markdown or emojis, just plain text with proper punctuation.\n",
      "</think>\n",
      "\n",
      "Hello! I'm just an AI, so I don't have feelings, but thanks for asking! How can I assist you today?\n"
     ]
    }
   ],
   "source": [
    "import openai\n",
    "\n",
    "client = openai.OpenAI(base_url=\"http://localhost:11434/v1\", api_key=\"ollama\")\n",
    "\n",
    "response = client.chat.completions.create(\n",
    "    model=\"deepseek-r1:7b\",\n",
    "    messages=[{\"role\": \"user\", \"content\": \"Hello, how are you?\"}]\n",
    ")\n",
    "\n",
    "print(response.choices[0].message.content)\n"
   ]
  },
  {
   "cell_type": "code",
   "execution_count": 40,
   "metadata": {},
   "outputs": [],
   "source": [
    "system_prompt = f\"\"\"\n",
    "From the raw text provided extract the relevant information and output the given pydantic json format\n",
    "There are table data as well as text data\n",
    "There are 3 sections: \n",
    "Identity Details containing text boxes and checkboxes\n",
    "Identification Details containing a table 6 columns\n",
    "The first column allows you to choose the type of ID and others are text\n",
    "Related Parties containing a table 6 columns\n",
    "The first column allows you to choose the type of relation and others are text\n",
    "\"\"\""
   ]
  },
  {
   "cell_type": "code",
   "execution_count": 41,
   "metadata": {},
   "outputs": [],
   "source": [
    "from pydantic import BaseModel, Field\n",
    "from typing import Optional, List\n",
    "\n",
    "class IdentificationDetails(BaseModel):\n",
    "    legal_id: Optional[str] = Field(None, description=\"Type of Legal ID (e.g., National Identity Card)\")\n",
    "    number_type: str = Field(..., description=\"Number or type of the ID\")\n",
    "    issuing_office: Optional[str] = Field(None, description=\"Issuing office of the ID\")\n",
    "    date_of_issue: str = Field(..., description=\"Date of issue (in YYYY-MM-DD format)\")\n",
    "    expiry_date: Optional[str] = Field(None, description=\"Expiry date (in YYYY-MM-DD format)\")\n",
    "    primary_secondary: Optional[str] = Field(None, description=\"Primary/Secondary designation\")\n",
    "\n",
    "class RelatedParty(BaseModel):\n",
    "    relation: Optional[str] = Field(None, description=\"Relation (e.g., Father, Mother)\")\n",
    "    full_name: str = Field(..., description=\"Full name of the related party\")\n",
    "    id_type: Optional[str] = Field(None, description=\"Type of ID for the related party\")\n",
    "    id_no: Optional[str] = Field(None, description=\"ID number of the related party\")\n",
    "    have_account: Optional[str] = Field(None, description=\"Whether the related party has an account (Yes/No)\")\n",
    "    customer_no: Optional[str] = Field(None, description=\"Customer number if applicable\")\n",
    "\n",
    "class PersonalAccountForm(BaseModel):\n",
    "    date: Optional[str] = Field(None, description=\"Form submission date (in YYYY-MM-DD format)\")\n",
    "    branch: Optional[str] = Field(None, description=\"Branch name\")\n",
    "    account_type: str = Field(..., description=\"Type of account (e.g., Saving, Current)\")\n",
    "    product_name: Optional[str] = Field(None, description=\"Name of the product, if applicable\")\n",
    "    currency: str = Field(..., description=\"Selected currency (e.g., NPR, USD)\")\n",
    "    salutation: Optional[str] = Field(None, description=\"Salutation (e.g., Mr., Ms.)\")\n",
    "    full_name: str = Field(..., description=\"Full name of the account holder\")\n",
    "    date_of_birth_bs: str = Field(..., description=\"Date of birth in B.S. format\")\n",
    "    date_of_birth_ad: str = Field(..., description=\"Date of birth in A.D. format\")\n",
    "    gender: str = Field(..., description=\"Gender (e.g., Male, Female, Others)\")\n",
    "    marital_status: str = Field(..., description=\"Marital status (e.g., Married, Unmarried)\")\n",
    "    nationality: str = Field(..., description=\"Nationality of the account holder\")\n",
    "    resident: Optional[str] = Field(None, description=\"Resident status, if applicable\")\n",
    "    education: Optional[str] = Field(None, description=\"Education level (e.g., Literate, Illiterate)\")\n",
    "    existing_account: str = Field(..., description=\"Whether the account holder has an existing account (Yes/No)\")\n",
    "    account_no: Optional[str] = Field(None, description=\"Existing account number, if applicable\")\n",
    "    identification_details: List[IdentificationDetails] = Field(..., description=\"List of identification details\")\n",
    "    related_parties: Optional[List[RelatedParty]] = Field(None, description=\"List of related parties\")\n",
    "\n"
   ]
  },
  {
   "cell_type": "code",
   "execution_count": 42,
   "metadata": {},
   "outputs": [],
   "source": [
    "def get_structured_text(text):    \n",
    "    client = openai.OpenAI(base_url=\"http://localhost:11434/v1\", api_key=\"ollama\")\n",
    "    response = client.beta.chat.completions.parse(\n",
    "        model=\"deepseek-r1:7b\",\n",
    "        messages=[            \n",
    "            {\n",
    "                \"role\": \"user\",\n",
    "                \"content\": [\n",
    "                    {\n",
    "                        \"type\": \"text\",\n",
    "                        \"text\": system_prompt,\n",
    "                    },\n",
    "                    {\n",
    "                        \"type\": \"text\",\n",
    "                        \"text\": text,\n",
    "                    },\n",
    "                ],\n",
    "            }\n",
    "        ],\n",
    "        response_format=PersonalAccountForm,\n",
    "        temperature=0.5\n",
    "    )\n",
    "    return response"
   ]
  },
  {
   "cell_type": "code",
   "execution_count": 43,
   "metadata": {},
   "outputs": [],
   "source": [
    "text = \"\"\"\n",
    "Signature of Customer (High\n",
    "MBL-OP-001\n",
    "Machhapuchchhre Bank Limited माछापुच्छे बैंक लिमिटेड\n",
    "सबल, उत्कृष्ट एवं विस्तारित\n",
    "A/C No.\n",
    "For Bank's Use Only (बैंक प्रयोजनका लागि मात्र)\n",
    "PERSONAL ACCOUNT OPENING FORM (व्यक्तिगत खाता खोलने फाराम)\n",
    "Branch (शाखा)\n",
    "Date (मिति) 17042025\n",
    "I /We request you to open an account in your Bank with following details. I/We hereby undertake to comply, observe and be bound by the rules and regulations (amended from time to time) pertaining to all accounts relationship maintained with you. (म/हामी यस बैंकमा निम्न बमोजिमको मेरो/हाम्रो खाता खोली दिनुहुन अनुरोध गर्दछु/गर्दछौ। म/हामी बैंकद्वारा लागू गरिने सम्पूर्ण नीतिनिर्देशन र प्रचलित कानून तथा अन्य शर्त बन्देजहरु (समय समयमा परिवर्तन हुने समेत) पालना गर्ने छु/छौं।\n",
    "IDENTITY DETAILS (पहिचान विवरण)\n",
    "Account Type (खाताको किसिम) :selected: Saving Account (बचत खाता) :unselected: Current Account (चल्ती खाता)\n",
    "Product Name (सेवाको नाम)\n",
    "Currency (मुद्रा) :selected: NPR (नेपाली रुपैया) :unselected: USD (अमेरिकी डलर) Others (अन्य)\n",
    "Salutation (सम्बोधन)\n",
    "Full Name (As per Valid Identification Documents) [पूरा नाम (आधिकारिक कागजातको आधारमा)]\n",
    "Mr\n",
    "Sujan Shrestha\n",
    "Date Of Birth (जन्म मिति)\n",
    "B.S. (वि.सं.)\n",
    "19 02 2062\n",
    "A.D. (ई.सं.)\n",
    "02062005\n",
    "Gender (लिंङ्ग) :selected: Male (पुरुष) :unselected: Female (महिला) :unselected: Others (अन्य)\n",
    "Marital Status (वैवाहिक अवस्था) :unselected: Married (विवाहित) :selected: Unmarried (अविवाहित)\n",
    "Nationality (राष्ट्रीयता)\n",
    "Nepali\n",
    "Resident (वासिन्दा)\n",
    "Education (शिक्षा) :selected: Literate (साक्षर) :unselected: llliterate (निरक्षर)\n",
    "Do you have any existing account (के तपाईसँग पहिले ने खाता छ ?) :unselected:\n",
    "Yes (specify below) [ छ (यदि भएमा तल उल्लेख गर्नुहोला)] :selected:\n",
    "No (छैन)\n",
    "Account No. (खाता नं.)\n",
    "Identification Details (परिचय विवरण)\n",
    "Legal ID (कानूनी परिचय)\n",
    "Number/Type (नं. /किसिम)\n",
    "Issuing Office (जारी निकाय)\n",
    "Date of Issue (जारी मिति)\n",
    "Expiry Date (समाप्ती मिति)\n",
    "Primary/Secondary प्राथमिक/अन्य :selected: National Identity card (राष्ट्रिय परिचय पत्र)\n",
    "699-501-9713\n",
    "2023-04-20 :selected: Citizenship (नागरिकता)\n",
    "28-01-79-00940\n",
    "lalitpun DAO\n",
    "2080-03-05 :unselected:\n",
    "Passport (राहदानी) :unselected:\n",
    "PAN (स्थायी लेखा नं.) :unselected:\n",
    "Driving License (सवारी चालक अनुमतिपत्र) :unselected:\n",
    "Voters ID Card (मतदाता परिचय पत्र) :unselected:\n",
    "Refugee Card (शरणार्थी कार्ड) :unselected:\n",
    "Birth certificate (Minor Only) (जन्मदर्ता (नाबालकको हकमा)) :unselected:\n",
    "Recommendation of Local Body (स्थानीय निकायको सिफारिस) :unselected: Indian Embassy Registration (भारतीय दूतावासबाट जारी दर्ता नं.) (For Indian National only) (भारतीय नागरिकहरुको लागि मात्र) :unselected:\n",
    "Aadhar Card (Indian Only) (आधार कार्ड) (भारतीय नागरिकको लागि मात्र) :unselected:\n",
    "Visa (प्रवेशाज्ञा) :unselected:\n",
    "Other (अन्य)\n",
    "Related Parties (Strike out where not applicable [(सम्बन्धित व्यक्ति (लागु नहुने भएमा काटने)]\n",
    "Relation (सम्बन्ध)\n",
    "Full Name (पूरा नाम)\n",
    "ID Type (परिचयको किसिम)\n",
    "ID No. (परिचय नं.)\n",
    "Have Account at (MBL )? माछापुच्छे बैंकमा खाता छ या छैन ?\n",
    "If yes, Customer No. (ग्राहक नं.) (यादे माहापुच्छे बैंकको ग्राहक भएमा)\n",
    "Spouse (पति/पत्नी)\n",
    "Mother (आमा)\n",
    "Sumitra Shrestha\n",
    "No\n",
    "Father (बाबू)\n",
    "Bharat Shrestha\n",
    "٨١٥\n",
    "Grandfather (हजुरबुबा)\n",
    "Kriti Man Shrestha\n",
    "110\n",
    "Son (छोरा)\n",
    "Daughter (छोरी)\n",
    "Daughter-in-law (बुहारी)\n",
    "Father-In-Law (ससुरा)\n",
    "Legal Custodian (कानूनी संरक्षक)\n",
    "Related Non personal Account (सम्बन्धित गेह व्यक्तिगत खाता)\n",
    "fi-\n",
    "Signature of Customer (ग्राहकको दस्तखत)\n",
    "Page 1 of 4\n",
    "MBL-OP-001 :selected:\n",
    "\"\"\""
   ]
  },
  {
   "cell_type": "code",
   "execution_count": 44,
   "metadata": {},
   "outputs": [],
   "source": [
    "result = get_structured_text(text)"
   ]
  },
  {
   "cell_type": "code",
   "execution_count": 11,
   "metadata": {},
   "outputs": [
    {
     "name": "stdout",
     "output_type": "stream",
     "text": [
      "{ \"date\": \"2023-10-05\", \"branch\": \"NEWHY\", \"account_type\": \"saving\", \"product_name\": \"HD 9876\",\n",
      "\"currency\": \"INR\", \"salutation\": \"Dear Sir/\", \"full_name\": \"John Doe\", \"date_of_birth_bs\": \"1990-05-15\",\n",
      "\"date_of_birth_ad\": \"1992-03-24\", \"gender\": \"Macho\", \"marital_status\": \"Single\", \"nationality\": \"UK\", \"resident\": \"NEWHY\", \"education\": \"BA\", \"existing_account\": \"Yes\", \"account_no\": \"123456789\",\n",
      "\"identification_details\": [ { \"legal_id\": \"JohnDoe\", \"number_type\": \"\" , \"issuing_office\": \"LAWoffice\", \"date_of_issue\": \"01-01-2023\" ,\"expiry_date\": \"31-12-2025\" ,\"primary_secondary\": \"Primary\" } ],\n",
      "\"related_parties\": [ { \"relation\": \"mother\", \"full_name\": \"Mary Jane Doe\", \"id_type\": \"SIII\", \"id_no\": \"1111111\" ,\n",
      "\"have_account\": \"Yes\", \"customer_no\": \"4567890\" } ] } \n"
     ]
    }
   ],
   "source": [
    "print(result.choices[0].message.content)"
   ]
  },
  {
   "cell_type": "code",
   "execution_count": 18,
   "metadata": {},
   "outputs": [],
   "source": [
    "content = result.choices[0].message.content"
   ]
  },
  {
   "cell_type": "code",
   "execution_count": 25,
   "metadata": {},
   "outputs": [],
   "source": [
    "content2 = result.choices[0].message.content"
   ]
  },
  {
   "cell_type": "code",
   "execution_count": 31,
   "metadata": {},
   "outputs": [],
   "source": [
    "content3 = result.choices[0].message.content"
   ]
  },
  {
   "cell_type": "code",
   "execution_count": 19,
   "metadata": {},
   "outputs": [
    {
     "data": {
      "text/plain": [
       "{'date': '2023-05-09',\n",
       " 'branch': 'CBN',\n",
       " 'account_type': 'SAVING',\n",
       " 'product_name': 'Standard Savings Account',\n",
       " 'currency': 'INR',\n",
       " 'salutation': 'Good morning Sir',\n",
       " 'full_name': 'John Doe',\n",
       " 'date_of_birth_bs': '1980-03-15',\n",
       " 'date_of_birth_ad': '1970-12-10',\n",
       " 'gender': 'MALE',\n",
       " 'marital_status': 'UN-Married',\n",
       " 'nationality': 'CANADA',\n",
       " 'resident': ' toronto, Ontario',\n",
       " 'education': \"Bachelor's degree in computer science\",\n",
       " 'existing_account': 'No',\n",
       " 'account_no': '1234567890',\n",
       " 'identification_details': [{'legal_id': 'CGC-987654-ABC',\n",
       "   'number_type': 'Valid Canadian ID number',\n",
       "   'issuing_office': 'Provincial',\n",
       "   'date_of_issue': '2010-02-20',\n",
       "   'expiry_date': '2030-06-05',\n",
       "   'primary_secondary': 'Primary'},\n",
       "  {'legal_id': 'CGC-876543-ABC',\n",
       "   'number_type': 'Passport number',\n",
       "   'issuing_office': 'Imai',\n",
       "   'date_of_issue': '2013-04-01',\n",
       "   'expiry_date': '2043-05-15',\n",
       "   'primary_secondary': 'Primary'},\n",
       "  {'legal_id': 'CGC-765432-ABC',\n",
       "   'number_type': 'DL number',\n",
       "   'issuing_office': 'Government of Ontario',\n",
       "   'date_of_issue': '2021-12-20',\n",
       "   'expiry_date': '2041-12-20',\n",
       "   'primary_secondary': 'Primary'},\n",
       "  {'legal_id': 'CGC-654321-ABC',\n",
       "   'number_type': 'CBN Card number',\n",
       "   'issuing_office': 'Canada',\n",
       "   'date_of_issue': '2022-10-10',\n",
       "   'expiry_date': '2042-10-10',\n",
       "   'primary_secondary': 'Primary'}],\n",
       " 'related_parties': [{'relation': ' spouse ',\n",
       "   'full_name': ' John Doe',\n",
       "   'id_type': ' marrying ID number ',\n",
       "   'id_no': ' XYZ-ABC-DEF-1234567890',\n",
       "   'have_account': 'Yes',\n",
       "   'customer_no': 'XXXX'},\n",
       "  {'relation': ' parent ',\n",
       "   'full_name': ' Jane Doe',\n",
       "   'id_type': ' PAN number ',\n",
       "   'id_no': ' XYZ-1234567890',\n",
       "   'have_account': 'No',\n",
       "   'customer_no': 'N/A'}]}"
      ]
     },
     "execution_count": 19,
     "metadata": {},
     "output_type": "execute_result"
    }
   ],
   "source": [
    "import json\n",
    "json.loads(content)"
   ]
  },
  {
   "cell_type": "code",
   "execution_count": 32,
   "metadata": {},
   "outputs": [
    {
     "data": {
      "text/plain": [
       "{'date': '17/01/2025',\n",
       " 'branch': 'Branch',\n",
       " 'account_type': 'Unselected',\n",
       " 'product_name': None,\n",
       " 'currency': 'USD',\n",
       " 'salutation': None,\n",
       " 'full_name': 'Your Full Name',\n",
       " 'date_of_birth_bs': '04/05/1980',\n",
       " 'date_of_birth_ad': '26/03/1985',\n",
       " 'gender': 'F',\n",
       " 'marital_status': 'S',\n",
       " 'nationality': 'INdia',\n",
       " 'resident': 'yes',\n",
       " 'education': None,\n",
       " 'existing_account': 'Yes',\n",
       " 'account_no': '114685',\n",
       " 'identification_details': [{'legal_id': 'CDO',\n",
       "   'number_type': 'Type',\n",
       "   'issuing_office': '2060-04-13',\n",
       "   'date_of_issue': '',\n",
       "   'expiry_date': '',\n",
       "   'primary_secondary': 'National Identity card'},\n",
       "  {'legal_id': 'Passport',\n",
       "   'number_type': 'type',\n",
       "   'issuing_office': None,\n",
       "   'date_of_issue': '',\n",
       "   'expiry_date': '',\n",
       "   'primary_secondary': None}],\n",
       " 'related_parties': [{'relation': 'Spouse',\n",
       "   'full_name': 'Gyana Shrestha',\n",
       "   'id_type': 'Type',\n",
       "   'id_no': '',\n",
       "   'have_account': 'Yes',\n",
       "   'customer_no': ''},\n",
       "  {'relation': 'Parent',\n",
       "   'full_name': 'Mohan Shrestha',\n",
       "   'id_type': 'Type',\n",
       "   'id_no': '',\n",
       "   'have_account': None,\n",
       "   'customer_no': ''}]}"
      ]
     },
     "execution_count": 32,
     "metadata": {},
     "output_type": "execute_result"
    }
   ],
   "source": [
    "import json\n",
    "json.loads(content2)"
   ]
  },
  {
   "cell_type": "code",
   "execution_count": 33,
   "metadata": {},
   "outputs": [
    {
     "data": {
      "text/plain": [
       "{'date': '17012025',\n",
       " 'branch': '',\n",
       " 'account_type': '',\n",
       " 'product_name': '',\n",
       " 'currency': 'NPR',\n",
       " 'salutation': '',\n",
       " 'full_name': 'ROSHAN SHRESTHA',\n",
       " 'date_of_birth_bs': '10072093',\n",
       " 'date_of_birth_ad': '27 10 2986',\n",
       " 'gender': 'Male',\n",
       " 'marital_status': '',\n",
       " 'nationality': 'Nepali',\n",
       " 'resident': '',\n",
       " 'education': 'Literate',\n",
       " 'existing_account': 'Yes',\n",
       " 'account_no': '114685',\n",
       " 'identification_details': [],\n",
       " 'related_parties': []}"
      ]
     },
     "execution_count": 33,
     "metadata": {},
     "output_type": "execute_result"
    }
   ],
   "source": [
    "import json\n",
    "json.loads(content3)"
   ]
  },
  {
   "cell_type": "code",
   "execution_count": 38,
   "metadata": {},
   "outputs": [
    {
     "data": {
      "text/plain": [
       "{'date': '17042025',\n",
       " 'branch': 'Machhapuchchhre Bank Limited',\n",
       " 'account_type': 'Saving Account',\n",
       " 'product_name': '',\n",
       " 'currency': 'NPR',\n",
       " 'salutation': '',\n",
       " 'full_name': 'Sujan Shrestha',\n",
       " 'date_of_birth_bs': '1902',\n",
       " 'date_of_birth_ad': '02062005',\n",
       " 'gender': 'Male',\n",
       " 'marital_status': 'Unmarried',\n",
       " 'nationality': 'Nepali',\n",
       " 'resident': 'Yes',\n",
       " 'education': '',\n",
       " 'existing_account': '',\n",
       " 'account_no': '',\n",
       " 'identification_details': [],\n",
       " 'related_parties': []}"
      ]
     },
     "execution_count": 38,
     "metadata": {},
     "output_type": "execute_result"
    }
   ],
   "source": [
    "content4 = result.choices[0].message.content\n",
    "json.loads(content4)"
   ]
  },
  {
   "cell_type": "code",
   "execution_count": 45,
   "metadata": {},
   "outputs": [
    {
     "data": {
      "text/plain": [
       "{'date': '17/04/2025',\n",
       " 'branch': 'Branch',\n",
       " 'account_type': 'Saving Account',\n",
       " 'product_name': '',\n",
       " 'currency': 'NPR',\n",
       " 'salutation': 'I /We request you to open an account in your Bank with following details.',\n",
       " 'full_name': 'Sujan Shrestha',\n",
       " 'date_of_birth_bs': '28-01-79-00940',\n",
       " 'date_of_birth_ad': '',\n",
       " 'gender': '',\n",
       " 'marital_status': '',\n",
       " 'nationality': '2080-03-05',\n",
       " 'resident': 'Rural',\n",
       " 'education': '',\n",
       " 'existing_account': '',\n",
       " 'account_no': '',\n",
       " 'identification_details': [],\n",
       " 'related_parties': [{'relation': 'Spouse',\n",
       "   'full_name': 'Sumitra Shrestha',\n",
       "   'id_type': '',\n",
       "   'id_no': 'No',\n",
       "   'have_account': 'No',\n",
       "   'customer_no': ''},\n",
       "  {'relation': 'Father',\n",
       "   'full_name': 'Bharat Shrestha',\n",
       "   'id_type': '',\n",
       "   'id_no': '815',\n",
       "   'have_account': 'No',\n",
       "   'customer_no': ''},\n",
       "  {'relation': 'Grandfather',\n",
       "   'full_name': 'Kriti Man Shrestha',\n",
       "   'id_type': '',\n",
       "   'id_no': '110',\n",
       "   'have_account': 'No',\n",
       "   'customer_no': ''},\n",
       "  {'relation': 'Son',\n",
       "   'full_name': 'Daughter',\n",
       "   'id_type': '',\n",
       "   'id_no': '123456789',\n",
       "   'have_account': 'No',\n",
       "   'customer_no': ''},\n",
       "  {'relation': 'Daughter-in-law',\n",
       "   'full_name': 'Father-In-Law',\n",
       "   'id_type': '',\n",
       "   'id_no': '7890123456',\n",
       "   'have_account': 'No',\n",
       "   'customer_no': ''}]}"
      ]
     },
     "execution_count": 45,
     "metadata": {},
     "output_type": "execute_result"
    }
   ],
   "source": [
    "content5 = result.choices[0].message.content\n",
    "json.loads(content5)"
   ]
  },
  {
   "cell_type": "code",
   "execution_count": null,
   "metadata": {},
   "outputs": [],
   "source": []
  }
 ],
 "metadata": {
  "kernelspec": {
   "display_name": "form_parser",
   "language": "python",
   "name": "python3"
  },
  "language_info": {
   "codemirror_mode": {
    "name": "ipython",
    "version": 3
   },
   "file_extension": ".py",
   "mimetype": "text/x-python",
   "name": "python",
   "nbconvert_exporter": "python",
   "pygments_lexer": "ipython3",
   "version": "3.11.2"
  }
 },
 "nbformat": 4,
 "nbformat_minor": 2
}
