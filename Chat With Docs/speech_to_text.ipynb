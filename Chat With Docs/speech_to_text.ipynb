{
 "cells": [
  {
   "cell_type": "code",
   "execution_count": 12,
   "metadata": {},
   "outputs": [],
   "source": [
    "import subprocess\n",
    "import os\n",
    "import re"
   ]
  },
  {
   "cell_type": "code",
   "execution_count": 13,
   "metadata": {},
   "outputs": [],
   "source": [
    "output_file = r\"D:\\Programming\\AI\\Basics\\intern-assignments\\Chat With Docs\\output.wav\"\n",
    "model_path = os.path.abspath(r\"whisper.cpp\\models\\ggml-tiny.en-q5_0.bin\")  # Full path to the model file\n",
    "whisper_cli = os.path.abspath(r\"whisper.cpp\\build\\bin\\Release\\whisper-cli\")  # Full path to the whisper-cli executable"
   ]
  },
  {
   "cell_type": "code",
   "execution_count": 14,
   "metadata": {},
   "outputs": [],
   "source": [
    "def text_to_speech(input_file):\n",
    "    command = [\n",
    "        \"ffmpeg\", \n",
    "        \"-i\", input_file, \n",
    "        \"-ar\", \"16000\", \n",
    "        \"-ac\", \"1\", \n",
    "        \"-c:a\", \"pcm_s16le\", \n",
    "        output_file\n",
    "    ]\n",
    "    if os.path.exists(output_file):\n",
    "        print(f\"Warning: {output_file} already exists. Overwriting the file.\")\n",
    "        os.remove(output_file)\n",
    "\n",
    "    result = subprocess.run(command, capture_output=True, text=True)\n",
    "\n",
    "    # Check if the command was successful\n",
    "    if result.returncode == 0:\n",
    "        print(\"Conversion successful!\")\n",
    "    else:\n",
    "        return f\"Error: {result.stderr}\"\n",
    "    command = [whisper_cli, \"-m\", model_path, output_file]\n",
    "\n",
    "    # Run the command using subprocess\n",
    "    result = subprocess.run(command, capture_output=True, text=True)\n",
    "\n",
    "    # Check if the command was successful\n",
    "    if result.returncode == 0:\n",
    "        print(\"Transcription successful!\")\n",
    "        transcription_text = re.sub(r'\\[.*?-->.*?\\]\\s*', '', result.stdout).strip()\n",
    "        return transcription_text\n",
    "    else:\n",
    "        return f\"Error: {result.stderr}\""
   ]
  },
  {
   "cell_type": "code",
   "execution_count": 15,
   "metadata": {},
   "outputs": [
    {
     "name": "stdout",
     "output_type": "stream",
     "text": [
      "Conversion successful!\n",
      "Transcription successful!\n"
     ]
    },
    {
     "data": {
      "text/plain": [
       "'Hello'"
      ]
     },
     "execution_count": 15,
     "metadata": {},
     "output_type": "execute_result"
    }
   ],
   "source": [
    "input_file = r\"D:\\Programming\\AI\\Basics\\intern-assignments\\Chat With Docs\\streamlit_app\\temp_files\\output.wav\"\n",
    "text_to_speech(input_file)"
   ]
  },
  {
   "cell_type": "code",
   "execution_count": null,
   "metadata": {},
   "outputs": [],
   "source": []
  }
 ],
 "metadata": {
  "kernelspec": {
   "display_name": "Python 3",
   "language": "python",
   "name": "python3"
  },
  "language_info": {
   "codemirror_mode": {
    "name": "ipython",
    "version": 3
   },
   "file_extension": ".py",
   "mimetype": "text/x-python",
   "name": "python",
   "nbconvert_exporter": "python",
   "pygments_lexer": "ipython3",
   "version": "3.11.2"
  }
 },
 "nbformat": 4,
 "nbformat_minor": 2
}
