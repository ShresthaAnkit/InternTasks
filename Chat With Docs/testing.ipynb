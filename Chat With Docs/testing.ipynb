{
 "cells": [
  {
   "cell_type": "code",
   "execution_count": 4,
   "metadata": {},
   "outputs": [],
   "source": [
    "from PyPDF2 import PdfReader, PdfWriter"
   ]
  },
  {
   "cell_type": "code",
   "execution_count": 5,
   "metadata": {},
   "outputs": [],
   "source": [
    "def extract_pages(input_pdf, output_pdf, pages_to_extract):\n",
    "    # Create a PDF reader and writer\n",
    "    reader = PdfReader(input_pdf)\n",
    "    writer = PdfWriter()\n",
    "    \n",
    "    # Extract the specified pages\n",
    "    for page_num in pages_to_extract:\n",
    "        writer.add_page(reader.pages[page_num])\n",
    "\n",
    "    # Write the extracted pages to a new PDF\n",
    "    with open(output_pdf, 'wb') as output_file:\n",
    "        writer.write(output_file)\n",
    "\n",
    "    print(f\"New PDF created: {output_pdf}\")\n",
    "\n",
    "\n",
    "# input_pdf = r'D:\\Programming\\AI\\Basics\\AMNIL Tech\\Chat With Docs\\energy.pdf' \n",
    "# output_pdf = 'sample.pdf'       \n",
    "# pages_to_extract = [0,1]           \n",
    "\n",
    "# extract_pages(input_pdf, output_pdf, pages_to_extract)\n"
   ]
  },
  {
   "cell_type": "code",
   "execution_count": 6,
   "metadata": {},
   "outputs": [],
   "source": [
    "pdf_path = 'sample.pdf'\n",
    "reader = PdfReader(pdf_path)\n",
    "page = reader.pages[0]"
   ]
  },
  {
   "cell_type": "code",
   "execution_count": 16,
   "metadata": {},
   "outputs": [
    {
     "name": "stdout",
     "output_type": "stream",
     "text": [
      "Text: 'CHAPTER 3', Font Size: 18.0\n",
      "Text: ' -', Font Size: 18.0\n",
      "Text: ' ', Font Size: 18.0\n",
      "Text: 'PART 2', Font Size: 18.0\n",
      "Text: '  ', Font Size: 18.0\n",
      "Text: '\\n', Font Size: 14.04\n",
      "Text: '1.', Font Size: 14.04\n",
      "Text: ' ', Font Size: 14.04\n",
      "Text: 'Hydrogen Introduction', Font Size: 14.04\n",
      "Text: '  ', Font Size: 14.04\n",
      "Text: '\\n', Font Size: 12.0\n",
      "Text: 'The electrical energy is the most convenient form of energy as it can be easily transported, ', Font Size: 12.0\n",
      "Text: '\\n', Font Size: 12.0\n",
      "Text: 'controlled and converted to other useful forms. However, the major shortcoming of the electrical ', Font Size: 12.0\n",
      "Text: '\\n', Font Size: 12.0\n",
      "Text: 'energy is its inability to be stored in large quantities. To addre', Font Size: 12.0\n",
      "Text: ' ss this shortcoming hydrogen fuel ', Font Size: 12.0\n",
      "Text: '\\n', Font Size: 12.0\n",
      "Text: 'can be phenomenal. Hydrogen fuel can be stored in large quantities but has risk of being highly ', Font Size: 12.0\n",
      "Text: '\\n', Font Size: 12.0\n",
      "Text: 'inflammable and requires special handling methods for safety concerns. Hydrogen is a secondary ', Font Size: 12.0\n",
      "Text: '\\n', Font Size: 12.0\n",
      "Text: 'fuel that requires primary ener', Font Size: 12.0\n",
      "Text: ' gy sources for production. ', Font Size: 12.0\n",
      "Text: 'Hydrogen can be produced from any ', Font Size: 12.0\n",
      "Text: '\\n', Font Size: 12.0\n",
      "Text: 'energy source such as solar or hydro', Font Size: 12.0\n",
      "Text: '  ', Font Size: 12.0\n",
      "Text: 'power. Also organic materials such as plants and fossil fuels ', Font Size: 12.0\n",
      "Text: '\\n', Font Size: 12.0\n",
      "Text: 'are also source of hydrogen', Font Size: 12.0\n",
      "Text: '  ', Font Size: 12.0\n",
      "Text: '(Singal, 2011)', Font Size: 12.0\n",
      "Text: ' . ', Font Size: 12.0\n",
      "Text: ' ', Font Size: 12.0\n",
      "Text: '\\n', Font Size: 12.0\n",
      "Text: 'Hydrogen can be stored', Font Size: 12.0\n",
      "Text: '  ', Font Size: 12.0\n",
      "Text: 'in compressed form in high pressure, It can also be stored in liquid form ', Font Size: 12.0\n",
      "Text: '\\n', Font Size: 12.0\n",
      "Text: 'in low temperatures. Hydrogen form hydrides with various metals which can also be used to store ', Font Size: 12.0\n",
      "Text: '\\n', Font Size: 12.0\n",
      "Text: 'and recover hydrogen as required. Hydrogen has the benefit of having high energy cont', Font Size: 12.0\n",
      "Text: ' ent per unit ', Font Size: 12.0\n",
      "Text: '\\n', Font Size: 12.0\n",
      "Text: 'mass. It can be used as fuel directly in gas turbine or spark ignition engines. It can be used as fuel ', Font Size: 12.0\n",
      "Text: '\\n', Font Size: 12.0\n",
      "Text: 'for transportation of vehicles which also reduces the problem of pollution. Hydrogen can be used ', Font Size: 12.0\n",
      "Text: '\\n', Font Size: 12.0\n",
      "Text: 'in fuel cell to produce electricity. Hence ', Font Size: 12.0\n",
      "Text: 'the scope and potential of hydrogen is huge and is ', Font Size: 12.0\n",
      "Text: '\\n', Font Size: 12.0\n",
      "Text: 'increasing at rapid rate in the world. ', Font Size: 12.0\n",
      "Text: ' ', Font Size: 12.0\n",
      "Text: '\\n', Font Size: 14.04\n",
      "Text: '2.', Font Size: 14.04\n",
      "Text: ' ', Font Size: 14.04\n",
      "Text: 'Hydrogen Production and Storage', Font Size: 14.04\n",
      "Text: '  ', Font Size: 14.04\n",
      "Text: '\\n', Font Size: 12.0\n",
      "Text: 'Majority of hydrogen being used in world is being used for production of Ammonia. Other major ', Font Size: 12.0\n",
      "Text: '\\n', Font Size: 12.0\n",
      "Text: 'usage of hydrogen has been for purifica', Font Size: 12.0\n",
      "Text: ' tion of fuels such as diesel by removing sulfur from it and ', Font Size: 12.0\n",
      "Text: '\\n', Font Size: 12.0\n",
      "Text: 'for improving low quality “heavy” crude oil. ', Font Size: 12.0\n",
      "Text: ' ', Font Size: 12.0\n",
      "Text: '\\n', Font Size: 12.0\n",
      "Text: '2.1.', Font Size: 12.0\n",
      "Text: ' ', Font Size: 12.0\n",
      "Text: 'Advantages of hydrogen ', Font Size: 12.0\n",
      "Text: ' ', Font Size: 12.0\n",
      "Text: '\\n', Font Size: 12.0\n",
      "Text: '2.1.1.', Font Size: 12.0\n",
      "Text: '  ', Font Size: 12.0\n",
      "Text: 'Negligible pollution', Font Size: 12.0\n",
      "Text: '  ', Font Size: 12.0\n",
      "Text: '\\n', Font Size: 12.0\n",
      "Text: 'The combustion of hydrogen yields only water. However, depending on the flame temperature, ', Font Size: 12.0\n",
      "Text: '\\n', Font Size: 12.0\n",
      "Text: 'traces of nitr', Font Size: 12.0\n",
      "Text: ' ogen oxides may also form in negligible amount. Some hydrogen production ', Font Size: 12.0\n",
      "Text: '\\n', Font Size: 12.0\n",
      "Text: 'processes may result in pollution. ', Font Size: 12.0\n",
      "Text: ' ', Font Size: 12.0\n",
      "Text: '\\n', Font Size: 12.0\n",
      "Text: '2.1.2.', Font Size: 12.0\n",
      "Text: '  ', Font Size: 12.0\n",
      "Text: 'Controllability', Font Size: 12.0\n",
      "Text: '  ', Font Size: 12.0\n"
     ]
    }
   ],
   "source": [
    "parts = []\n",
    "def visitor_body(text, cm, tm, fontDict, fontSize):\n",
    "    y = tm[5]        \n",
    "    if y > 90 and y < 720:\n",
    "        print(f\"Text: {repr(text)}, Font Size: {fontSize}\")\n",
    "        parts.append(text)\n",
    "page.extract_text(visitor_text=visitor_body)\n",
    "text_body = \"\".join(parts)"
   ]
  },
  {
   "cell_type": "code",
   "execution_count": 12,
   "metadata": {},
   "outputs": [
    {
     "name": "stdout",
     "output_type": "stream",
     "text": [
      "CHAPTER 3 - PART 2  \n",
      "1. Hydrogen Introduction  \n",
      "The electrical energy is the most convenient form of energy as it can be easily transported, \n",
      "controlled and converted to other useful forms. However, the major shortcoming of the electrical \n",
      "energy is its inability to be stored in large quantities. To addre ss this shortcoming hydrogen fuel \n",
      "can be phenomenal. Hydrogen fuel can be stored in large quantities but has risk of being highly \n",
      "inflammable and requires special handling methods for safety concerns. Hydrogen is a secondary \n",
      "fuel that requires primary ener gy sources for production. Hydrogen can be produced from any \n",
      "energy source such as solar or hydro  power. Also organic materials such as plants and fossil fuels \n",
      "are also source of hydrogen  (Singal, 2011) .  \n",
      "Hydrogen can be stored  in compressed form in high pressure, It can also be stored in liquid form \n",
      "in low temperatures. Hydrogen form hydrides with various metals which can also be used to store \n",
      "and recover hydrogen as required. Hydrogen has the benefit of having high energy cont ent per unit \n",
      "mass. It can be used as fuel directly in gas turbine or spark ignition engines. It can be used as fuel \n",
      "for transportation of vehicles which also reduces the problem of pollution. Hydrogen can be used \n",
      "in fuel cell to produce electricity. Hence the scope and potential of hydrogen is huge and is \n",
      "increasing at rapid rate in the world.  \n",
      "2. Hydrogen Production and Storage  \n",
      "Majority of hydrogen being used in world is being used for production of Ammonia. Other major \n",
      "usage of hydrogen has been for purifica tion of fuels such as diesel by removing sulfur from it and \n",
      "for improving low quality “heavy” crude oil.  \n",
      "2.1. Advantages of hydrogen  \n",
      "2.1.1.  Negligible pollution  \n",
      "The combustion of hydrogen yields only water. However, depending on the flame temperature, \n",
      "traces of nitr ogen oxides may also form in negligible amount. Some hydrogen production \n",
      "processes may result in pollution.  \n",
      "2.1.2.  Controllability  \n"
     ]
    }
   ],
   "source": [
    "print(text_body)"
   ]
  },
  {
   "cell_type": "code",
   "execution_count": null,
   "metadata": {},
   "outputs": [],
   "source": []
  }
 ],
 "metadata": {
  "kernelspec": {
   "display_name": "Python 3",
   "language": "python",
   "name": "python3"
  },
  "language_info": {
   "codemirror_mode": {
    "name": "ipython",
    "version": 3
   },
   "file_extension": ".py",
   "mimetype": "text/x-python",
   "name": "python",
   "nbconvert_exporter": "python",
   "pygments_lexer": "ipython3",
   "version": "3.11.2"
  }
 },
 "nbformat": 4,
 "nbformat_minor": 2
}
