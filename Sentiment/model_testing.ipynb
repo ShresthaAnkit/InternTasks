{
 "cells": [
  {
   "cell_type": "code",
   "execution_count": null,
   "metadata": {
    "id": "K9J2aXYAx1Vl"
   },
   "outputs": [],
   "source": [
    "!pip install datasets"
   ]
  },
  {
   "cell_type": "code",
   "execution_count": 34,
   "metadata": {
    "id": "awlMksFTh4z3"
   },
   "outputs": [],
   "source": [
    "import pandas as pd\n",
    "import numpy as np\n",
    "import matplotlib.pyplot as plt"
   ]
  },
  {
   "cell_type": "code",
   "execution_count": 35,
   "metadata": {
    "id": "twkK4ByzlMYm"
   },
   "outputs": [],
   "source": [
    "import torch\n",
    "import tensorflow as tf"
   ]
  },
  {
   "cell_type": "code",
   "execution_count": 36,
   "metadata": {
    "colab": {
     "base_uri": "https://localhost:8080/"
    },
    "id": "VXojz7bUiWGL",
    "outputId": "d33fea73-2160-41c7-bdb5-ca88c5622aea"
   },
   "outputs": [
    {
     "name": "stderr",
     "output_type": "stream",
     "text": [
      "All TF 2.0 model weights were used when initializing BertForSequenceClassification.\n",
      "\n",
      "All the weights of BertForSequenceClassification were initialized from the TF 2.0 model.\n",
      "If your task is similar to the task the model of the checkpoint was trained on, you can already use BertForSequenceClassification for predictions without further training.\n"
     ]
    }
   ],
   "source": [
    "# Load model directly\n",
    "from transformers import AutoTokenizer, AutoModelForSequenceClassification , Trainer, TrainingArguments\n",
    "\n",
    "tokenizer = AutoTokenizer.from_pretrained(\"NepBERTa/NepBERTa\")\n",
    "model = AutoModelForSequenceClassification .from_pretrained(\"NepBERTa/NepBERTa\", from_tf=True,num_labels=3)"
   ]
  },
  {
   "cell_type": "code",
   "execution_count": 37,
   "metadata": {
    "id": "D7_6G0ysiXLQ"
   },
   "outputs": [],
   "source": [
    "df_train = pd.read_csv('/content/drive/MyDrive/Sentiment/train_clean.csv')"
   ]
  },
  {
   "cell_type": "code",
   "execution_count": 38,
   "metadata": {
    "id": "cgferBGGihTS"
   },
   "outputs": [],
   "source": [
    "from sklearn.model_selection import train_test_split"
   ]
  },
  {
   "cell_type": "code",
   "execution_count": 39,
   "metadata": {
    "id": "0Co8c3gTzcCB"
   },
   "outputs": [],
   "source": [
    "X = list(df_train['text'])\n",
    "y = list(df_train['label'])"
   ]
  },
  {
   "cell_type": "code",
   "execution_count": 40,
   "metadata": {
    "id": "-JJb83yoznb0"
   },
   "outputs": [],
   "source": [
    "X_train,X_test,y_train,y_test = train_test_split(X,y,test_size=0.2,random_state=0,stratify=y)"
   ]
  },
  {
   "cell_type": "code",
   "execution_count": 42,
   "metadata": {
    "id": "ws1jYYQc2R5S"
   },
   "outputs": [],
   "source": [
    "# Verify all the rows are of type str\n",
    "for idx,text in enumerate(X):\n",
    "  if not isinstance(text,str):\n",
    "    print(text)\n",
    "    print(idx)"
   ]
  },
  {
   "cell_type": "code",
   "execution_count": 43,
   "metadata": {
    "id": "Jw0fl-7V0J8d"
   },
   "outputs": [],
   "source": [
    "# Convert text into tokens using the tokenizer from NepBERTa\n",
    "train_encodings = tokenizer(X_train,truncation=True,padding=True,max_length=256)\n",
    "test_encodings = tokenizer(X_test,truncation=True,padding=True,max_length=256)"
   ]
  },
  {
   "cell_type": "code",
   "execution_count": 44,
   "metadata": {
    "id": "x8aob90kCMZ-"
   },
   "outputs": [],
   "source": [
    "# Convert the dataset into a dict to convert into Dataset object from huggingface\n",
    "train_data = {\n",
    "    \"input_ids\": train_encodings[\"input_ids\"],\n",
    "    \"attention_mask\": train_encodings[\"attention_mask\"],\n",
    "    \"labels\": y_train\n",
    "}\n",
    "test_data = {\n",
    "    \"input_ids\": test_encodings[\"input_ids\"],\n",
    "    \"attention_mask\": test_encodings[\"attention_mask\"],\n",
    "    \"labels\": y_test\n",
    "}"
   ]
  },
  {
   "cell_type": "code",
   "execution_count": 46,
   "metadata": {
    "id": "QaVDhgJD1uWi"
   },
   "outputs": [],
   "source": [
    "from datasets import Dataset\n",
    "# Convert the dict into Dataset object\n",
    "train_dataset = Dataset.from_dict(train_data)\n",
    "test_dataset = Dataset.from_dict(test_data)"
   ]
  },
  {
   "cell_type": "code",
   "execution_count": 47,
   "metadata": {
    "colab": {
     "base_uri": "https://localhost:8080/"
    },
    "id": "2PJIHeN7-QEK",
    "outputId": "61e8ed31-114c-4096-ca50-249e29ab5c64"
   },
   "outputs": [
    {
     "data": {
      "text/plain": [
       "Dataset({\n",
       "    features: ['input_ids', 'attention_mask', 'labels'],\n",
       "    num_rows: 4792\n",
       "})"
      ]
     },
     "execution_count": 47,
     "metadata": {},
     "output_type": "execute_result"
    }
   ],
   "source": [
    "train_dataset"
   ]
  },
  {
   "cell_type": "code",
   "execution_count": 147,
   "metadata": {
    "colab": {
     "base_uri": "https://localhost:8080/"
    },
    "id": "erR1OpiFEzKM",
    "outputId": "3b0f7fcb-c007-4d4f-bb1f-550c0533b1ae"
   },
   "outputs": [
    {
     "name": "stdout",
     "output_type": "stream",
     "text": [
      "(128,)\n",
      "0\n"
     ]
    }
   ],
   "source": [
    "print(np.array(train_dataset[0]['input_ids']).shape)"
   ]
  },
  {
   "cell_type": "code",
   "execution_count": 51,
   "metadata": {
    "id": "6PGzrZU_-pHa"
   },
   "outputs": [],
   "source": [
    "training_args = TrainingArguments(\n",
    "    output_dir = './results',\n",
    "    num_train_epochs=6,\n",
    "    per_device_train_batch_size = 64,\n",
    "    per_device_eval_batch_size=64,\n",
    "    warmup_steps=500,\n",
    "    weight_decay=0.01,\n",
    "    logging_dir='./logs',\n",
    "    logging_steps=10\n",
    ")"
   ]
  },
  {
   "cell_type": "code",
   "execution_count": 49,
   "metadata": {
    "id": "yEftFFeK_vdA"
   },
   "outputs": [],
   "source": [
    "import os\n",
    "# Unset the WANDB_API_KEY\n",
    "os.environ[\"WANDB_MODE\"] = \"disabled\""
   ]
  },
  {
   "cell_type": "code",
   "execution_count": 52,
   "metadata": {
    "colab": {
     "base_uri": "https://localhost:8080/",
     "height": 1000
    },
    "collapsed": true,
    "id": "4prnzX5K-8mp",
    "outputId": "cb1b872e-fb32-4706-b5f5-b6e189499508"
   },
   "outputs": [
    {
     "data": {
      "text/html": [
       "\n",
       "    <div>\n",
       "      \n",
       "      <progress value='450' max='450' style='width:300px; height:20px; vertical-align: middle;'></progress>\n",
       "      [450/450 19:40, Epoch 6/6]\n",
       "    </div>\n",
       "    <table border=\"1\" class=\"dataframe\">\n",
       "  <thead>\n",
       " <tr style=\"text-align: left;\">\n",
       "      <th>Step</th>\n",
       "      <th>Training Loss</th>\n",
       "    </tr>\n",
       "  </thead>\n",
       "  <tbody>\n",
       "    <tr>\n",
       "      <td>10</td>\n",
       "      <td>1.084900</td>\n",
       "    </tr>\n",
       "    <tr>\n",
       "      <td>20</td>\n",
       "      <td>1.074900</td>\n",
       "    </tr>\n",
       "    <tr>\n",
       "      <td>30</td>\n",
       "      <td>1.057500</td>\n",
       "    </tr>\n",
       "    <tr>\n",
       "      <td>40</td>\n",
       "      <td>1.038300</td>\n",
       "    </tr>\n",
       "    <tr>\n",
       "      <td>50</td>\n",
       "      <td>1.011400</td>\n",
       "    </tr>\n",
       "    <tr>\n",
       "      <td>60</td>\n",
       "      <td>1.005200</td>\n",
       "    </tr>\n",
       "    <tr>\n",
       "      <td>70</td>\n",
       "      <td>0.974200</td>\n",
       "    </tr>\n",
       "    <tr>\n",
       "      <td>80</td>\n",
       "      <td>0.928200</td>\n",
       "    </tr>\n",
       "    <tr>\n",
       "      <td>90</td>\n",
       "      <td>0.898000</td>\n",
       "    </tr>\n",
       "    <tr>\n",
       "      <td>100</td>\n",
       "      <td>0.844400</td>\n",
       "    </tr>\n",
       "    <tr>\n",
       "      <td>110</td>\n",
       "      <td>0.875300</td>\n",
       "    </tr>\n",
       "    <tr>\n",
       "      <td>120</td>\n",
       "      <td>0.813500</td>\n",
       "    </tr>\n",
       "    <tr>\n",
       "      <td>130</td>\n",
       "      <td>0.805800</td>\n",
       "    </tr>\n",
       "    <tr>\n",
       "      <td>140</td>\n",
       "      <td>0.801500</td>\n",
       "    </tr>\n",
       "    <tr>\n",
       "      <td>150</td>\n",
       "      <td>0.791000</td>\n",
       "    </tr>\n",
       "    <tr>\n",
       "      <td>160</td>\n",
       "      <td>0.749400</td>\n",
       "    </tr>\n",
       "    <tr>\n",
       "      <td>170</td>\n",
       "      <td>0.713200</td>\n",
       "    </tr>\n",
       "    <tr>\n",
       "      <td>180</td>\n",
       "      <td>0.750000</td>\n",
       "    </tr>\n",
       "    <tr>\n",
       "      <td>190</td>\n",
       "      <td>0.766200</td>\n",
       "    </tr>\n",
       "    <tr>\n",
       "      <td>200</td>\n",
       "      <td>0.690300</td>\n",
       "    </tr>\n",
       "    <tr>\n",
       "      <td>210</td>\n",
       "      <td>0.638900</td>\n",
       "    </tr>\n",
       "    <tr>\n",
       "      <td>220</td>\n",
       "      <td>0.671100</td>\n",
       "    </tr>\n",
       "    <tr>\n",
       "      <td>230</td>\n",
       "      <td>0.631300</td>\n",
       "    </tr>\n",
       "    <tr>\n",
       "      <td>240</td>\n",
       "      <td>0.554900</td>\n",
       "    </tr>\n",
       "    <tr>\n",
       "      <td>250</td>\n",
       "      <td>0.622100</td>\n",
       "    </tr>\n",
       "    <tr>\n",
       "      <td>260</td>\n",
       "      <td>0.605500</td>\n",
       "    </tr>\n",
       "    <tr>\n",
       "      <td>270</td>\n",
       "      <td>0.582400</td>\n",
       "    </tr>\n",
       "    <tr>\n",
       "      <td>280</td>\n",
       "      <td>0.666400</td>\n",
       "    </tr>\n",
       "    <tr>\n",
       "      <td>290</td>\n",
       "      <td>0.623600</td>\n",
       "    </tr>\n",
       "    <tr>\n",
       "      <td>300</td>\n",
       "      <td>0.596200</td>\n",
       "    </tr>\n",
       "    <tr>\n",
       "      <td>310</td>\n",
       "      <td>0.490000</td>\n",
       "    </tr>\n",
       "    <tr>\n",
       "      <td>320</td>\n",
       "      <td>0.453000</td>\n",
       "    </tr>\n",
       "    <tr>\n",
       "      <td>330</td>\n",
       "      <td>0.461800</td>\n",
       "    </tr>\n",
       "    <tr>\n",
       "      <td>340</td>\n",
       "      <td>0.475400</td>\n",
       "    </tr>\n",
       "    <tr>\n",
       "      <td>350</td>\n",
       "      <td>0.591400</td>\n",
       "    </tr>\n",
       "    <tr>\n",
       "      <td>360</td>\n",
       "      <td>0.574800</td>\n",
       "    </tr>\n",
       "    <tr>\n",
       "      <td>370</td>\n",
       "      <td>0.532600</td>\n",
       "    </tr>\n",
       "    <tr>\n",
       "      <td>380</td>\n",
       "      <td>0.415900</td>\n",
       "    </tr>\n",
       "    <tr>\n",
       "      <td>390</td>\n",
       "      <td>0.380800</td>\n",
       "    </tr>\n",
       "    <tr>\n",
       "      <td>400</td>\n",
       "      <td>0.473600</td>\n",
       "    </tr>\n",
       "    <tr>\n",
       "      <td>410</td>\n",
       "      <td>0.454100</td>\n",
       "    </tr>\n",
       "    <tr>\n",
       "      <td>420</td>\n",
       "      <td>0.493500</td>\n",
       "    </tr>\n",
       "    <tr>\n",
       "      <td>430</td>\n",
       "      <td>0.381500</td>\n",
       "    </tr>\n",
       "    <tr>\n",
       "      <td>440</td>\n",
       "      <td>0.430500</td>\n",
       "    </tr>\n",
       "    <tr>\n",
       "      <td>450</td>\n",
       "      <td>0.472500</td>\n",
       "    </tr>\n",
       "  </tbody>\n",
       "</table><p>"
      ],
      "text/plain": [
       "<IPython.core.display.HTML object>"
      ]
     },
     "metadata": {},
     "output_type": "display_data"
    },
    {
     "data": {
      "text/plain": [
       "TrainOutput(global_step=450, training_loss=0.6877057467566596, metrics={'train_runtime': 1183.3479, 'train_samples_per_second': 24.297, 'train_steps_per_second': 0.38, 'total_flos': 3782518493257728.0, 'train_loss': 0.6877057467566596, 'epoch': 6.0})"
      ]
     },
     "execution_count": 52,
     "metadata": {},
     "output_type": "execute_result"
    }
   ],
   "source": [
    "trainer = Trainer(\n",
    "    model=model,\n",
    "    args=training_args,\n",
    "    train_dataset=train_dataset,\n",
    "    eval_dataset=test_dataset\n",
    ")\n",
    "trainer.train()"
   ]
  },
  {
   "cell_type": "code",
   "execution_count": 53,
   "metadata": {
    "colab": {
     "base_uri": "https://localhost:8080/",
     "height": 124
    },
    "id": "eKVw48ztJenI",
    "outputId": "73686b08-eb16-4544-e60b-7166aed66189"
   },
   "outputs": [
    {
     "data": {
      "text/html": [
       "\n",
       "    <div>\n",
       "      \n",
       "      <progress value='19' max='19' style='width:300px; height:20px; vertical-align: middle;'></progress>\n",
       "      [19/19 00:16]\n",
       "    </div>\n",
       "    "
      ],
      "text/plain": [
       "<IPython.core.display.HTML object>"
      ]
     },
     "metadata": {},
     "output_type": "display_data"
    },
    {
     "data": {
      "text/plain": [
       "{'eval_loss': 0.7286009192466736,\n",
       " 'eval_runtime': 17.2865,\n",
       " 'eval_samples_per_second': 69.303,\n",
       " 'eval_steps_per_second': 1.099,\n",
       " 'epoch': 6.0}"
      ]
     },
     "execution_count": 53,
     "metadata": {},
     "output_type": "execute_result"
    }
   ],
   "source": [
    "trainer.evaluate(test_dataset)"
   ]
  },
  {
   "cell_type": "code",
   "execution_count": 54,
   "metadata": {
    "colab": {
     "base_uri": "https://localhost:8080/",
     "height": 17
    },
    "id": "q_SVjbdYctqC",
    "outputId": "943600d2-ac03-49d9-cb57-3965387e3c89"
   },
   "outputs": [
    {
     "data": {
      "text/html": [],
      "text/plain": [
       "<IPython.core.display.HTML object>"
      ]
     },
     "metadata": {},
     "output_type": "display_data"
    }
   ],
   "source": [
    "output = trainer.predict(test_dataset)"
   ]
  },
  {
   "cell_type": "code",
   "execution_count": 64,
   "metadata": {
    "id": "KcBQqonehBT_"
   },
   "outputs": [],
   "source": [
    "preds = output[0]"
   ]
  },
  {
   "cell_type": "code",
   "execution_count": 68,
   "metadata": {
    "collapsed": true,
    "id": "U0_UbpoXguS3"
   },
   "outputs": [],
   "source": [
    "out_preds =[out.argmax() for out in preds]"
   ]
  },
  {
   "cell_type": "code",
   "execution_count": 69,
   "metadata": {
    "colab": {
     "base_uri": "https://localhost:8080/"
    },
    "id": "L5YbzH_vKOws",
    "outputId": "7076c198-8d07-4ee4-85ea-de563fc87959"
   },
   "outputs": [
    {
     "data": {
      "text/plain": [
       "array([[329,  66,  80],\n",
       "       [ 57, 394,  25],\n",
       "       [ 54,  35, 158]])"
      ]
     },
     "execution_count": 69,
     "metadata": {},
     "output_type": "execute_result"
    }
   ],
   "source": [
    "from sklearn.metrics import confusion_matrix\n",
    "\n",
    "cm = confusion_matrix(y_test,out_preds)\n",
    "cm"
   ]
  },
  {
   "cell_type": "code",
   "execution_count": 70,
   "metadata": {
    "colab": {
     "base_uri": "https://localhost:8080/"
    },
    "id": "HpmH4E-JhddW",
    "outputId": "fb0252e5-498f-47d4-aa41-6a2a28da760f"
   },
   "outputs": [
    {
     "data": {
      "text/plain": [
       "0.7353923205342237"
      ]
     },
     "execution_count": 70,
     "metadata": {},
     "output_type": "execute_result"
    }
   ],
   "source": [
    "cm.diagonal().sum() / cm.sum()"
   ]
  },
  {
   "cell_type": "code",
   "execution_count": 71,
   "metadata": {
    "id": "nfraxTeuKfPK"
   },
   "outputs": [],
   "source": [
    "trainer.save_model('sentiment_modelv2')"
   ]
  },
  {
   "cell_type": "code",
   "execution_count": 5,
   "metadata": {
    "id": "oyhYKGWIl_M1"
   },
   "outputs": [],
   "source": [
    "from transformers import AutoModelForSequenceClassification\n",
    "\n",
    "# Load the model from the saved folder\n",
    "model = AutoModelForSequenceClassification.from_pretrained('/content/drive/MyDrive/Sentiment/sentiment_model', num_labels=3)\n"
   ]
  },
  {
   "cell_type": "code",
   "execution_count": 72,
   "metadata": {
    "id": "SVDkIdJHSc3w"
   },
   "outputs": [],
   "source": [
    "df_test = pd.read_csv('/content/drive/MyDrive/Sentiment/test_clean.csv')"
   ]
  },
  {
   "cell_type": "code",
   "execution_count": 12,
   "metadata": {
    "id": "WiJVJf3nSfAe"
   },
   "outputs": [],
   "source": [
    "X = list(df_test['text'])[:10]\n",
    "y = list(df_test['label'])[:10]"
   ]
  },
  {
   "cell_type": "code",
   "execution_count": 13,
   "metadata": {
    "id": "tfM2wzGHSgfU"
   },
   "outputs": [],
   "source": [
    "encodings = tokenizer(X,return_tensors=\"pt\",truncation=True,padding=True,max_length=128)"
   ]
  },
  {
   "cell_type": "code",
   "execution_count": 14,
   "metadata": {
    "id": "ProhMLHqSo4I"
   },
   "outputs": [],
   "source": [
    "with torch.no_grad():  # Disable gradient calculation\n",
    "    outputs = model(**encodings)"
   ]
  },
  {
   "cell_type": "code",
   "execution_count": 15,
   "metadata": {
    "id": "bXYtSIrLSv7w"
   },
   "outputs": [],
   "source": [
    "logits = outputs.logits"
   ]
  },
  {
   "cell_type": "code",
   "execution_count": 17,
   "metadata": {
    "colab": {
     "base_uri": "https://localhost:8080/"
    },
    "id": "hWkeIllqUOGA",
    "outputId": "e41dcf33-faf2-401d-cede-cd0957581809"
   },
   "outputs": [
    {
     "data": {
      "text/plain": [
       "tensor([[-0.4558,  2.9378, -2.4275],\n",
       "        [-0.5326,  2.9708, -2.3609],\n",
       "        [-0.3759,  2.6379, -2.2442],\n",
       "        [-0.7380,  3.1850, -2.3408],\n",
       "        [-0.8793,  0.6530, -0.0384],\n",
       "        [ 2.1670, -1.4592, -0.8833],\n",
       "        [-1.1336,  3.3648, -2.1217],\n",
       "        [-0.4942,  2.5403, -2.0024],\n",
       "        [ 2.6898, -1.2663, -1.4416],\n",
       "        [-0.4811,  1.0630, -0.5874]])"
      ]
     },
     "execution_count": 17,
     "metadata": {},
     "output_type": "execute_result"
    }
   ],
   "source": [
    "logits"
   ]
  },
  {
   "cell_type": "code",
   "execution_count": 18,
   "metadata": {
    "colab": {
     "base_uri": "https://localhost:8080/"
    },
    "id": "SznUQzzGS1zK",
    "outputId": "cdd6dd80-2e32-4903-d373-43db6b4beaf2"
   },
   "outputs": [
    {
     "data": {
      "text/plain": [
       "[1, 1, 1, 1, 1, 0, 1, 1, 0, 1]"
      ]
     },
     "execution_count": 18,
     "metadata": {},
     "output_type": "execute_result"
    }
   ],
   "source": [
    "# Convert logits to predicted class\n",
    "predicted_class = [torch.argmax(logit, dim=-1).item() for logit in logits]\n",
    "predicted_class"
   ]
  },
  {
   "cell_type": "code",
   "execution_count": 19,
   "metadata": {
    "id": "DcNk-uMATSqh"
   },
   "outputs": [],
   "source": [
    "from sklearn.metrics import accuracy_score"
   ]
  },
  {
   "cell_type": "code",
   "execution_count": 20,
   "metadata": {
    "id": "m-ytdnnrUXpY"
   },
   "outputs": [],
   "source": [
    "accuracy = accuracy_score(predicted_class, y)"
   ]
  },
  {
   "cell_type": "code",
   "execution_count": 21,
   "metadata": {
    "colab": {
     "base_uri": "https://localhost:8080/"
    },
    "id": "fl0lk5ctUd_b",
    "outputId": "23f76620-5944-4fc6-ba15-6bd02d5593a7"
   },
   "outputs": [
    {
     "data": {
      "text/plain": [
       "0.9"
      ]
     },
     "execution_count": 21,
     "metadata": {},
     "output_type": "execute_result"
    }
   ],
   "source": [
    "accuracy"
   ]
  },
  {
   "cell_type": "code",
   "execution_count": 73,
   "metadata": {
    "id": "auvSlDsnVBHP"
   },
   "outputs": [],
   "source": [
    "X = list(df_test['text'])\n",
    "y = list(df_test['label'])"
   ]
  },
  {
   "cell_type": "code",
   "execution_count": 29,
   "metadata": {
    "colab": {
     "base_uri": "https://localhost:8080/"
    },
    "collapsed": true,
    "id": "NLtU6q4CUfGS",
    "outputId": "6de1f5d6-23a3-4475-e49f-c18563d0bf2e"
   },
   "outputs": [
    {
     "name": "stdout",
     "output_type": "stream",
     "text": [
      "Batch no: 0\n",
      "Batch no: 32\n",
      "Batch no: 64\n",
      "Batch no: 96\n",
      "Batch no: 128\n",
      "Batch no: 160\n",
      "Batch no: 192\n",
      "Batch no: 224\n",
      "Batch no: 256\n",
      "Batch no: 288\n",
      "Batch no: 320\n",
      "Batch no: 352\n",
      "Batch no: 384\n",
      "Batch no: 416\n",
      "Batch no: 448\n",
      "Batch no: 480\n",
      "Batch no: 512\n",
      "Batch no: 544\n",
      "Batch no: 576\n",
      "Batch no: 608\n",
      "Batch no: 640\n",
      "Batch no: 672\n",
      "Batch no: 704\n",
      "Batch no: 736\n",
      "Batch no: 768\n",
      "Batch no: 800\n",
      "Batch no: 832\n",
      "Batch no: 864\n",
      "Batch no: 896\n",
      "Batch no: 928\n",
      "Batch no: 960\n",
      "Batch no: 992\n",
      "Batch no: 1024\n",
      "Batch no: 1056\n",
      "Batch no: 1088\n",
      "Batch no: 1120\n",
      "Batch no: 1152\n",
      "Batch no: 1184\n",
      "Batch no: 1216\n",
      "Batch no: 1248\n",
      "Batch no: 1280\n",
      "Batch no: 1312\n",
      "Batch no: 1344\n",
      "Batch no: 1376\n",
      "Batch no: 1408\n",
      "Batch no: 1440\n",
      "Batch no: 1472\n",
      "Batch no: 1504\n",
      "Batch no: 1536\n",
      "Batch no: 1568\n",
      "Batch no: 1600\n",
      "Batch no: 1632\n",
      "Batch no: 1664\n",
      "Batch no: 1696\n",
      "Batch no: 1728\n",
      "Batch no: 1760\n",
      "Batch no: 1792\n",
      "Batch no: 1824\n",
      "Batch no: 1856\n",
      "Batch no: 1888\n",
      "Batch no: 1920\n",
      "Batch no: 1952\n",
      "Batch no: 1984\n"
     ]
    }
   ],
   "source": [
    "batch_size = 32\n",
    "all_predictions = []\n",
    "\n",
    "for i in range(0, len(X), batch_size):\n",
    "    batch_texts = X[i:i + batch_size]\n",
    "    inputs = tokenizer(batch_texts, return_tensors='pt', truncation=True, padding=True, max_length=128)\n",
    "\n",
    "    with torch.no_grad():\n",
    "        outputs = model(**inputs)\n",
    "    logits = outputs.logits\n",
    "    batch_predictions = [torch.argmax(logit, dim=-1).item() for logit in logits]\n",
    "    all_predictions.extend(batch_predictions)\n",
    "    print(f'Batch no: {i}')"
   ]
  },
  {
   "cell_type": "code",
   "execution_count": 30,
   "metadata": {
    "id": "is52FvNRVwZS"
   },
   "outputs": [],
   "source": [
    "accuracy = accuracy_score(all_predictions, y)"
   ]
  },
  {
   "cell_type": "code",
   "execution_count": 31,
   "metadata": {
    "colab": {
     "base_uri": "https://localhost:8080/"
    },
    "id": "Ih1wM2x8XT9M",
    "outputId": "ddff50df-cd69-41fe-dd73-f73b011580b2"
   },
   "outputs": [
    {
     "data": {
      "text/plain": [
       "0.6531124497991968"
      ]
     },
     "execution_count": 31,
     "metadata": {},
     "output_type": "execute_result"
    }
   ],
   "source": [
    "accuracy"
   ]
  },
  {
   "cell_type": "code",
   "execution_count": 74,
   "metadata": {
    "id": "fGwcjRIjXU2K"
   },
   "outputs": [],
   "source": [
    "actual_test_encodings = tokenizer(X,truncation=True,padding=True,max_length=256)"
   ]
  },
  {
   "cell_type": "code",
   "execution_count": 76,
   "metadata": {
    "id": "9wS9B-CuipZM"
   },
   "outputs": [],
   "source": [
    "actual_test_data = {\n",
    "    \"input_ids\": actual_test_encodings[\"input_ids\"],\n",
    "    \"attention_mask\": actual_test_encodings[\"attention_mask\"],\n",
    "    \"labels\": y\n",
    "}"
   ]
  },
  {
   "cell_type": "code",
   "execution_count": 78,
   "metadata": {
    "id": "64WQqMtpiwc9"
   },
   "outputs": [],
   "source": [
    "actual_test_dataset = Dataset.from_dict(actual_test_data)"
   ]
  },
  {
   "cell_type": "code",
   "execution_count": 79,
   "metadata": {
    "colab": {
     "base_uri": "https://localhost:8080/",
     "height": 17
    },
    "id": "k7GN7KEgiGzY",
    "outputId": "af93196e-49c3-48b3-a347-cdcac31bbe8a"
   },
   "outputs": [
    {
     "data": {
      "text/html": [],
      "text/plain": [
       "<IPython.core.display.HTML object>"
      ]
     },
     "metadata": {},
     "output_type": "display_data"
    }
   ],
   "source": [
    "predictions = trainer.predict(actual_test_dataset)"
   ]
  },
  {
   "cell_type": "code",
   "execution_count": 80,
   "metadata": {
    "id": "fHzAQTEjigft"
   },
   "outputs": [],
   "source": [
    "logits = predictions.predictions\n",
    "predicted_labels = np.argmax(logits, axis=-1)\n",
    "true_labels = predictions.label_ids"
   ]
  },
  {
   "cell_type": "code",
   "execution_count": 82,
   "metadata": {
    "id": "PUnutZHRi-K5"
   },
   "outputs": [],
   "source": [
    "accuracy = accuracy_score(true_labels, predicted_labels)"
   ]
  },
  {
   "cell_type": "code",
   "execution_count": 83,
   "metadata": {
    "colab": {
     "base_uri": "https://localhost:8080/"
    },
    "id": "K8wSSoKpjB_r",
    "outputId": "5bd90c77-038b-476a-b01d-3707052363e5"
   },
   "outputs": [
    {
     "data": {
      "text/plain": [
       "0.6450803212851406"
      ]
     },
     "execution_count": 83,
     "metadata": {},
     "output_type": "execute_result"
    }
   ],
   "source": [
    "accuracy"
   ]
  },
  {
   "cell_type": "code",
   "execution_count": null,
   "metadata": {
    "id": "3xDrBF8BjCyD"
   },
   "outputs": [],
   "source": []
  }
 ],
 "metadata": {
  "accelerator": "GPU",
  "colab": {
   "gpuType": "T4",
   "provenance": []
  },
  "kernelspec": {
   "display_name": "Python 3",
   "name": "python3"
  },
  "language_info": {
   "name": "python",
   "version": "3.11.2"
  }
 },
 "nbformat": 4,
 "nbformat_minor": 0
}
